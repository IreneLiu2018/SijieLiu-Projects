{
 "cells": [
  {
   "cell_type": "markdown",
   "metadata": {},
   "source": [
    "# SNAPCHAT ADS-Testing and Prediction"
   ]
  },
  {
   "cell_type": "markdown",
   "metadata": {},
   "source": [
    "In this project, there will be two parts:\n",
    "* first part is focusing on the data cleaning, evaluating missingness based on permutation testing, and hypothesis testing.\n",
    "* second part is concentrating on making prediction based on the dataset and trying to make a reliable model using sklearn."
   ]
  },
  {
   "cell_type": "markdown",
   "metadata": {},
   "source": [
    "## Part I Introduction: \n",
    "### basic exploration of dataset and performing tests\n",
    "In this project, we focus on the question: what are the characteristics of ads with a large reach, i.e., many views? \n",
    "\n",
    "This dataset ads contains the information for political ads that are/have been served on Snapchat’s Advertising platform. It includes the data about how ADs manager choose the targeting criterias, what political info are included in those ads and the basic info about their content and consequences. \n",
    "\n",
    "In this dataset, we can get information about how did people response to those ads by looking at \"impressions\" column, which can be understanded as views. In order to ﬁnd the characteristics of ads with many impressions, we can do researches on associations between the impressions and spend, investigating how is spend related with ads' number of views.\n"
   ]
  },
  {
   "cell_type": "markdown",
   "metadata": {},
   "source": [
    "### Cleaning and EDA \n",
    "\n",
    "In order to ﬁnd the characteristics of ads with many impressions, we care only about columns that are related to our impressions column. First, we concatenate the 2018 CSV and the 2019 CSV into one DataFrame so that we have data from both years. Then we convert StartDate and EndDate into datetime. \n",
    "\n",
    "We want to check if there is a relationship between ads impressions and ads spending. But before we analyze the spend on the advertising, we need to convert the currency into a consistent form. We convert all currency into USD and add converted new spending to our original data. \n",
    "\n",
    "To do more analysis on ads spending, we ﬁrst use univariate analysis to investigate which currency is used the most in advertising, so we count the numbers of each kind of currency and plot it in a bar chart. The bar chart shows that USD is used the most in advertising compared to other currency. \n",
    "\n",
    "Next by bivariate analysis, we found the relationship between ads impressions and the spending on ads. By showing scatter plot, we can conclude that generally there is a positive relationship between ads impressions and spending. The more advertisers spend, the more numbers of times the ad has been viewed by Snapchatters. \n",
    "\n",
    "Then we analyzed average ads spending by currency by aggregates analysis. First, we grouped Currency Code using the mean of 'New_Spend', then plot it as a bar chart. We conclude from the graph that on average, AUD is spent more than other currencies, which is $3575.53. \n",
    "\n",
    "All of the above data cleaning and Exploratory Data Analysis give us more clues of ﬁnding characteristics of ads with many views and help us focus more on ads spending and other elements to investigate how to maximize ads' reach."
   ]
  },
  {
   "cell_type": "markdown",
   "metadata": {},
   "source": [
    "### Assessment of Missingness \n",
    "\n",
    "In this dataset, we found that 'segments' might be NMAR. Segments refers to targeting criteria used in the Ad. This is advertiser-speciﬁc data used such as Snap Audience Match or Lookalike audiences.Because we can not know fully from the observed data that why those data is missing and we might need further info to understand the missingness. In this case, if there is a data column representing the ﬁeld or specialization of those advertisers, we might be able to understand the missingness better and making it MAR.\n",
    "\n",
    "We use permutation test to ﬁgure out the missingness of Region (Included). Region (Included) refers to targeting criteria used in the Ad. This is sub-country and often represents states or provinces. When this ﬁeld is populated Ad impressions will be delivered within the included Region(s). \n",
    "\n",
    "Firstly, We set up a null hypothesis that the missingness of region is not related to CandidateBallotInformation. CandidateBallotInformation refers to the name of the candidate/ ballot initiative associated with the Ad. We tried to ﬁnd whether two distributions are similar by accessing the total variation distance between these two categorical data. And we could know that p value is 0.434 which is larger than the statistical conﬁdence level 0.05 and we could not reject the null hypothesis in this case. Then we can conclude that the region included data is not related to/ not dependent on candidate ballot information. Because ads managers mostly just want to advertise for their camps in as many regions as possible, regions included might not related to the candiate ballot information. \n",
    "\n",
    "Secondly, We set up a null hypothesis that the missingness of region included data is not conditioned on the spend. We shuﬄed the column of spend and in each situmation we will get diﬀerent test statistic each time. We got two values in each situmation: one is the mean of spend when region data is missing, one is the mean of spend when region data is presented. And we take the abs diﬀerence btw these two values. Then we run our stimulations for 500 times and we got a empricial distribution about the diﬀerences in means. We got a histogram which can clearly give us information about the relationship between empricial distribution and observered value. Then we got the p-value which represent the proportion of diﬀ in means that is consistent with the observed value. According to our investigations, we found that the p value is 0.032. We set our statistical conﬁdence level as 0.05. As 0.036 is smaller than the 0.05, we could explain that these two distributions are not similar and reject the null hypothesis. In this case, we could say that the missingness of region included is dependent on the spend. \n",
    "\n",
    "Becuase of diﬀerent spending, ads manager might decide to put ads with higher spends into the regions which are larger than other states or put them into more regions. If the ad managers put data into many diﬀerent regions, they might not or forget to provide the targeting criteria data about included region. \n",
    "\n",
    "Since our question is about the characteristics of the ads with many impressions, we might not be able to draw direct conclusion from the missingness assessment here. But we still get valueable relations in this process.\n"
   ]
  },
  {
   "cell_type": "markdown",
   "metadata": {},
   "source": [
    "### Hypothesis Test \n",
    "\n",
    "In order to probe deeper on what characteristics of ads maximize an ad's reach, we need to explore more on whether the impressions are inﬂuenced by the targeting countries. It is obvious that the United States takes the biggest proportion of being targeted. We are wondeirng if we can randomly choose countries from the populations, whether the result will be diﬀerent.\n",
    "\n",
    "* Null Hypothesis: The average impressions of targeting United States is similar to the average impressions of targeting other countries.\n",
    "\n",
    "* Alternative Hypothesis: No, the average impressions of targeting United States is totally diﬀerent from the average impressions of targeting other countries. \n",
    "\n",
    "We choose the average of impressions as our test statistics, and signiﬁcant level of 0.05.\n",
    "The resulting p-value is 0.228, which is greater than our signiﬁcance level of 0.05. So, we fail to reject the null hypothesis that the average impressions of targeting United States is similar to the average impressions of targeting other countries."
   ]
  },
  {
   "cell_type": "markdown",
   "metadata": {},
   "source": [
    "## Code"
   ]
  },
  {
   "cell_type": "code",
   "execution_count": 3,
   "metadata": {},
   "outputs": [],
   "source": [
    "import matplotlib.pyplot as plt \n",
    "import numpy as np \n",
    "import os \n",
    "import pandas as pd \n",
    "import seaborn as sns \n",
    "%matplotlib inline\n",
    "%config InlineBackend.figure_format = 'retina'  # Higher resolution figures "
   ]
  },
  {
   "cell_type": "markdown",
   "metadata": {},
   "source": [
    "### Cleaning and EDA\n",
    "#### clean the data\n",
    "\n",
    "First, we concatenate the 2018 CSV and the 2019 CSV into one DataFrame so that we have data from both years.\n"
   ]
  },
  {
   "cell_type": "code",
   "execution_count": 6,
   "metadata": {},
   "outputs": [
    {
     "data": {
      "text/html": [
       "<div>\n",
       "<style scoped>\n",
       "    .dataframe tbody tr th:only-of-type {\n",
       "        vertical-align: middle;\n",
       "    }\n",
       "\n",
       "    .dataframe tbody tr th {\n",
       "        vertical-align: top;\n",
       "    }\n",
       "\n",
       "    .dataframe thead th {\n",
       "        text-align: right;\n",
       "    }\n",
       "</style>\n",
       "<table border=\"1\" class=\"dataframe\">\n",
       "  <thead>\n",
       "    <tr style=\"text-align: right;\">\n",
       "      <th></th>\n",
       "      <th>ADID</th>\n",
       "      <th>CreativeUrl</th>\n",
       "      <th>Currency Code</th>\n",
       "      <th>Spend</th>\n",
       "      <th>Impressions</th>\n",
       "      <th>StartDate</th>\n",
       "      <th>EndDate</th>\n",
       "      <th>OrganizationName</th>\n",
       "      <th>BillingAddress</th>\n",
       "      <th>CandidateBallotInformation</th>\n",
       "      <th>...</th>\n",
       "      <th>Location Categories (Included)</th>\n",
       "      <th>Location Categories (Excluded)</th>\n",
       "      <th>Interests</th>\n",
       "      <th>OsType</th>\n",
       "      <th>Segments</th>\n",
       "      <th>Language</th>\n",
       "      <th>AdvancedDemographics</th>\n",
       "      <th>Targeting Connection Type</th>\n",
       "      <th>Targeting Carrier (ISP)</th>\n",
       "      <th>CreativeProperties</th>\n",
       "    </tr>\n",
       "  </thead>\n",
       "  <tbody>\n",
       "    <tr>\n",
       "      <td>0</td>\n",
       "      <td>6f6f6abb25d183bc3f0a2df46d18c65a18f6e1cac73416...</td>\n",
       "      <td>https://www.snap.com/political-ads/asset/a213d...</td>\n",
       "      <td>USD</td>\n",
       "      <td>35</td>\n",
       "      <td>16678</td>\n",
       "      <td>2018/11/06 18:21:20Z</td>\n",
       "      <td>2018/11/07 01:19:08Z</td>\n",
       "      <td>Research Triangle Student Advocacy</td>\n",
       "      <td>US</td>\n",
       "      <td>NaN</td>\n",
       "      <td>...</td>\n",
       "      <td>NaN</td>\n",
       "      <td>NaN</td>\n",
       "      <td>NaN</td>\n",
       "      <td>NaN</td>\n",
       "      <td>Provided by Advertiser</td>\n",
       "      <td>NaN</td>\n",
       "      <td>NaN</td>\n",
       "      <td>NaN</td>\n",
       "      <td>NaN</td>\n",
       "      <td>NaN</td>\n",
       "    </tr>\n",
       "    <tr>\n",
       "      <td>1</td>\n",
       "      <td>5195d68c146526eda7c30c64b9bef15ae86d8250c9a226...</td>\n",
       "      <td>https://www.snap.com/political-ads/asset/5c0b7...</td>\n",
       "      <td>USD</td>\n",
       "      <td>6</td>\n",
       "      <td>4846</td>\n",
       "      <td>2018/12/01 17:37:10Z</td>\n",
       "      <td>2018/12/11 05:37:02Z</td>\n",
       "      <td>LPM</td>\n",
       "      <td>GB</td>\n",
       "      <td>NaN</td>\n",
       "      <td>...</td>\n",
       "      <td>NaN</td>\n",
       "      <td>NaN</td>\n",
       "      <td>NaN</td>\n",
       "      <td>NaN</td>\n",
       "      <td>Provided by Advertiser</td>\n",
       "      <td>NaN</td>\n",
       "      <td>NaN</td>\n",
       "      <td>NaN</td>\n",
       "      <td>NaN</td>\n",
       "      <td>web_view_url:http://jidesanwoolu.ng/</td>\n",
       "    </tr>\n",
       "    <tr>\n",
       "      <td>2</td>\n",
       "      <td>64d906646b616c034c91b69b9e7851944844eb456dd203...</td>\n",
       "      <td>https://www.snap.com/political-ads/asset/e56c0...</td>\n",
       "      <td>USD</td>\n",
       "      <td>56</td>\n",
       "      <td>11770</td>\n",
       "      <td>2018/09/28 23:10:14Z</td>\n",
       "      <td>2018/10/17 02:00:00Z</td>\n",
       "      <td>Chong and Koster</td>\n",
       "      <td>1640 Rhode Island Ave. NW, Suite 600,Washingto...</td>\n",
       "      <td>NaN</td>\n",
       "      <td>...</td>\n",
       "      <td>NaN</td>\n",
       "      <td>NaN</td>\n",
       "      <td>NaN</td>\n",
       "      <td>NaN</td>\n",
       "      <td>Provided by Advertiser</td>\n",
       "      <td>NaN</td>\n",
       "      <td>Marital Status (Single)</td>\n",
       "      <td>NaN</td>\n",
       "      <td>NaN</td>\n",
       "      <td>web_view_url:https://www.voterparticipation.or...</td>\n",
       "    </tr>\n",
       "    <tr>\n",
       "      <td>3</td>\n",
       "      <td>45d7697e2522ccdd56b699e832792b9b659f7159e180a2...</td>\n",
       "      <td>https://www.snap.com/political-ads/asset/4b9c0...</td>\n",
       "      <td>USD</td>\n",
       "      <td>2048</td>\n",
       "      <td>612521</td>\n",
       "      <td>2018/09/28 19:00:00Z</td>\n",
       "      <td>2018/10/27 03:59:00Z</td>\n",
       "      <td>Güd Marketing</td>\n",
       "      <td>1223 Turner Ave., Suite 101,Lansing,48906,US</td>\n",
       "      <td>NaN</td>\n",
       "      <td>...</td>\n",
       "      <td>NaN</td>\n",
       "      <td>NaN</td>\n",
       "      <td>Adventure Seekers,Beachgoers &amp; Surfers,Cycling...</td>\n",
       "      <td>NaN</td>\n",
       "      <td>Provided by Advertiser</td>\n",
       "      <td>en</td>\n",
       "      <td>NaN</td>\n",
       "      <td>NaN</td>\n",
       "      <td>NaN</td>\n",
       "      <td>web_view_url:https://blockasiancarp.org/take-a...</td>\n",
       "    </tr>\n",
       "    <tr>\n",
       "      <td>4</td>\n",
       "      <td>46d8326f706f56296fa29f51b5127c67190807ccc08534...</td>\n",
       "      <td>https://www.snap.com/political-ads/asset/f512d...</td>\n",
       "      <td>USD</td>\n",
       "      <td>196</td>\n",
       "      <td>23810</td>\n",
       "      <td>2018/10/26 17:58:01Z</td>\n",
       "      <td>2018/11/06 22:59:59Z</td>\n",
       "      <td>Mothership Strategies</td>\n",
       "      <td>1328 Florida Avenue NW, Building C, Washington...</td>\n",
       "      <td>NaN</td>\n",
       "      <td>...</td>\n",
       "      <td>NaN</td>\n",
       "      <td>NaN</td>\n",
       "      <td>NaN</td>\n",
       "      <td>NaN</td>\n",
       "      <td>NaN</td>\n",
       "      <td>NaN</td>\n",
       "      <td>NaN</td>\n",
       "      <td>NaN</td>\n",
       "      <td>NaN</td>\n",
       "      <td>web_view_url:http://votingmatters.org/</td>\n",
       "    </tr>\n",
       "  </tbody>\n",
       "</table>\n",
       "<p>5 rows × 34 columns</p>\n",
       "</div>"
      ],
      "text/plain": [
       "                                                ADID  \\\n",
       "0  6f6f6abb25d183bc3f0a2df46d18c65a18f6e1cac73416...   \n",
       "1  5195d68c146526eda7c30c64b9bef15ae86d8250c9a226...   \n",
       "2  64d906646b616c034c91b69b9e7851944844eb456dd203...   \n",
       "3  45d7697e2522ccdd56b699e832792b9b659f7159e180a2...   \n",
       "4  46d8326f706f56296fa29f51b5127c67190807ccc08534...   \n",
       "\n",
       "                                         CreativeUrl Currency Code  Spend  \\\n",
       "0  https://www.snap.com/political-ads/asset/a213d...           USD     35   \n",
       "1  https://www.snap.com/political-ads/asset/5c0b7...           USD      6   \n",
       "2  https://www.snap.com/political-ads/asset/e56c0...           USD     56   \n",
       "3  https://www.snap.com/political-ads/asset/4b9c0...           USD   2048   \n",
       "4  https://www.snap.com/political-ads/asset/f512d...           USD    196   \n",
       "\n",
       "   Impressions             StartDate               EndDate  \\\n",
       "0        16678  2018/11/06 18:21:20Z  2018/11/07 01:19:08Z   \n",
       "1         4846  2018/12/01 17:37:10Z  2018/12/11 05:37:02Z   \n",
       "2        11770  2018/09/28 23:10:14Z  2018/10/17 02:00:00Z   \n",
       "3       612521  2018/09/28 19:00:00Z  2018/10/27 03:59:00Z   \n",
       "4        23810  2018/10/26 17:58:01Z  2018/11/06 22:59:59Z   \n",
       "\n",
       "                     OrganizationName  \\\n",
       "0  Research Triangle Student Advocacy   \n",
       "1                                 LPM   \n",
       "2                    Chong and Koster   \n",
       "3                       Güd Marketing   \n",
       "4               Mothership Strategies   \n",
       "\n",
       "                                      BillingAddress  \\\n",
       "0                                                 US   \n",
       "1                                                 GB   \n",
       "2  1640 Rhode Island Ave. NW, Suite 600,Washingto...   \n",
       "3       1223 Turner Ave., Suite 101,Lansing,48906,US   \n",
       "4  1328 Florida Avenue NW, Building C, Washington...   \n",
       "\n",
       "  CandidateBallotInformation  ... Location Categories (Included)  \\\n",
       "0                        NaN  ...                            NaN   \n",
       "1                        NaN  ...                            NaN   \n",
       "2                        NaN  ...                            NaN   \n",
       "3                        NaN  ...                            NaN   \n",
       "4                        NaN  ...                            NaN   \n",
       "\n",
       "  Location Categories (Excluded)  \\\n",
       "0                            NaN   \n",
       "1                            NaN   \n",
       "2                            NaN   \n",
       "3                            NaN   \n",
       "4                            NaN   \n",
       "\n",
       "                                           Interests OsType  \\\n",
       "0                                                NaN    NaN   \n",
       "1                                                NaN    NaN   \n",
       "2                                                NaN    NaN   \n",
       "3  Adventure Seekers,Beachgoers & Surfers,Cycling...    NaN   \n",
       "4                                                NaN    NaN   \n",
       "\n",
       "                 Segments Language     AdvancedDemographics  \\\n",
       "0  Provided by Advertiser      NaN                      NaN   \n",
       "1  Provided by Advertiser      NaN                      NaN   \n",
       "2  Provided by Advertiser      NaN  Marital Status (Single)   \n",
       "3  Provided by Advertiser       en                      NaN   \n",
       "4                     NaN      NaN                      NaN   \n",
       "\n",
       "   Targeting Connection Type Targeting Carrier (ISP)  \\\n",
       "0                        NaN                     NaN   \n",
       "1                        NaN                     NaN   \n",
       "2                        NaN                     NaN   \n",
       "3                        NaN                     NaN   \n",
       "4                        NaN                     NaN   \n",
       "\n",
       "                                  CreativeProperties  \n",
       "0                                                NaN  \n",
       "1               web_view_url:http://jidesanwoolu.ng/  \n",
       "2  web_view_url:https://www.voterparticipation.or...  \n",
       "3  web_view_url:https://blockasiancarp.org/take-a...  \n",
       "4             web_view_url:http://votingmatters.org/  \n",
       "\n",
       "[5 rows x 34 columns]"
      ]
     },
     "execution_count": 6,
     "metadata": {},
     "output_type": "execute_result"
    }
   ],
   "source": [
    "# Concatenate the 2018 CSV and the 2019 CSV into one DataFrame \n",
    "ads_2018 = pd.read_csv('ads_2018.csv') \n",
    "ads_2019 = pd.read_csv('ads_2019.csv') \n",
    "ads = pd.concat([ads_2018, ads_2019], ignore_index=True)\n",
    "ads.head()"
   ]
  },
  {
   "cell_type": "markdown",
   "metadata": {},
   "source": [
    "In timestamp, the Z stands for the 'Zero timezone', as it is oﬀset by 0 from the Coordinated Universal Time (UTC) also known as \"Zulu time\"(UTC). So ﬁrst we need to check whether the timestamps in columns 'StartDate' and 'EndDate' are all in UTC time zone by checking how many non-null timestamps contain 'Z'.\n"
   ]
  },
  {
   "cell_type": "code",
   "execution_count": 8,
   "metadata": {},
   "outputs": [
    {
     "data": {
      "text/plain": [
       "True"
      ]
     },
     "execution_count": 8,
     "metadata": {},
     "output_type": "execute_result"
    }
   ],
   "source": [
    "# Check if all non-null 'StartDate' are in UTC time zone \n",
    "start = ads['StartDate'] \n",
    "num_utc_start = len([a for a in start if pd.isnull(a)==False and 'Z' in a]) \n",
    "num_null_start = ads['StartDate'].isnull().sum() \n",
    "num_utc_start + num_null_start == len(ads)"
   ]
  },
  {
   "cell_type": "markdown",
   "metadata": {},
   "source": [
    "Now, we conﬁrmed that all timestamps are consistent and are in time zone of UTC. So, we can then convert StartDate and EndDate into datetime by stripping 'Z'.\n"
   ]
  },
  {
   "cell_type": "code",
   "execution_count": 10,
   "metadata": {},
   "outputs": [],
   "source": [
    "# Stripping 'Z' at the end of each timestamp \n",
    "ads['StartDate'] = ads['StartDate'].apply(lambda x: x.strip('Z') if pd.isnull(x) ==False else x) \n",
    "ads['EndDate'] = ads['EndDate'].apply(lambda x: x.strip('Z') if pd.isnull(x)==False else x)"
   ]
  },
  {
   "cell_type": "code",
   "execution_count": 11,
   "metadata": {},
   "outputs": [],
   "source": [
    "# convert StartDate and EndDate into datetime. \n",
    "ads['StartDate'] = pd.to_datetime(ads['StartDate']) \n",
    "ads['EndDate'] = pd.to_datetime(ads['EndDate'])"
   ]
  },
  {
   "cell_type": "markdown",
   "metadata": {},
   "source": [
    "Before we analyze the spend on the advertising, we need to convert the currency into a consistent form. We will convert all currency into USD and add converted new spending to our original data.\n"
   ]
  },
  {
   "cell_type": "code",
   "execution_count": 13,
   "metadata": {},
   "outputs": [
    {
     "data": {
      "text/html": [
       "<div>\n",
       "<style scoped>\n",
       "    .dataframe tbody tr th:only-of-type {\n",
       "        vertical-align: middle;\n",
       "    }\n",
       "\n",
       "    .dataframe tbody tr th {\n",
       "        vertical-align: top;\n",
       "    }\n",
       "\n",
       "    .dataframe thead th {\n",
       "        text-align: right;\n",
       "    }\n",
       "</style>\n",
       "<table border=\"1\" class=\"dataframe\">\n",
       "  <thead>\n",
       "    <tr style=\"text-align: right;\">\n",
       "      <th></th>\n",
       "      <th>ADID</th>\n",
       "      <th>CreativeUrl</th>\n",
       "      <th>...</th>\n",
       "      <th>Rate</th>\n",
       "      <th>New_Spend</th>\n",
       "    </tr>\n",
       "  </thead>\n",
       "  <tbody>\n",
       "    <tr>\n",
       "      <td>0</td>\n",
       "      <td>6f6f6abb25d183bc3f0a2df46d18c65a18f6e1cac73416...</td>\n",
       "      <td>https://www.snap.com/political-ads/asset/a213d...</td>\n",
       "      <td>...</td>\n",
       "      <td>1.0</td>\n",
       "      <td>35.0</td>\n",
       "    </tr>\n",
       "    <tr>\n",
       "      <td>1</td>\n",
       "      <td>5195d68c146526eda7c30c64b9bef15ae86d8250c9a226...</td>\n",
       "      <td>https://www.snap.com/political-ads/asset/5c0b7...</td>\n",
       "      <td>...</td>\n",
       "      <td>1.0</td>\n",
       "      <td>6.0</td>\n",
       "    </tr>\n",
       "    <tr>\n",
       "      <td>2</td>\n",
       "      <td>64d906646b616c034c91b69b9e7851944844eb456dd203...</td>\n",
       "      <td>https://www.snap.com/political-ads/asset/e56c0...</td>\n",
       "      <td>...</td>\n",
       "      <td>1.0</td>\n",
       "      <td>56.0</td>\n",
       "    </tr>\n",
       "    <tr>\n",
       "      <td>3</td>\n",
       "      <td>45d7697e2522ccdd56b699e832792b9b659f7159e180a2...</td>\n",
       "      <td>https://www.snap.com/political-ads/asset/4b9c0...</td>\n",
       "      <td>...</td>\n",
       "      <td>1.0</td>\n",
       "      <td>2048.0</td>\n",
       "    </tr>\n",
       "    <tr>\n",
       "      <td>4</td>\n",
       "      <td>46d8326f706f56296fa29f51b5127c67190807ccc08534...</td>\n",
       "      <td>https://www.snap.com/political-ads/asset/f512d...</td>\n",
       "      <td>...</td>\n",
       "      <td>1.0</td>\n",
       "      <td>196.0</td>\n",
       "    </tr>\n",
       "  </tbody>\n",
       "</table>\n",
       "<p>5 rows × 36 columns</p>\n",
       "</div>"
      ],
      "text/plain": [
       "                                                ADID  \\\n",
       "0  6f6f6abb25d183bc3f0a2df46d18c65a18f6e1cac73416...   \n",
       "1  5195d68c146526eda7c30c64b9bef15ae86d8250c9a226...   \n",
       "2  64d906646b616c034c91b69b9e7851944844eb456dd203...   \n",
       "3  45d7697e2522ccdd56b699e832792b9b659f7159e180a2...   \n",
       "4  46d8326f706f56296fa29f51b5127c67190807ccc08534...   \n",
       "\n",
       "                                         CreativeUrl  ... Rate  New_Spend  \n",
       "0  https://www.snap.com/political-ads/asset/a213d...  ...  1.0       35.0  \n",
       "1  https://www.snap.com/political-ads/asset/5c0b7...  ...  1.0        6.0  \n",
       "2  https://www.snap.com/political-ads/asset/e56c0...  ...  1.0       56.0  \n",
       "3  https://www.snap.com/political-ads/asset/4b9c0...  ...  1.0     2048.0  \n",
       "4  https://www.snap.com/political-ads/asset/f512d...  ...  1.0      196.0  \n",
       "\n",
       "[5 rows x 36 columns]"
      ]
     },
     "execution_count": 13,
     "metadata": {},
     "output_type": "execute_result"
    }
   ],
   "source": [
    "# Convert different kinds of currency \n",
    "currency = {'USD':1, 'EUR':0.93, 'CAD':1.4, 'GBP':0.82, 'AUD':1.55} \n",
    "ads = ads.assign(Rate=ads['Currency Code'].map(currency)) \n",
    "\n",
    "pd.options.display.max_columns = 5 \n",
    "# Add converted new spend to the original table \n",
    "ads['New_Spend'] = round(ads['Spend']/ads['Rate'],2) \n",
    "ads.head()"
   ]
  },
  {
   "cell_type": "markdown",
   "metadata": {},
   "source": [
    "#### Univariate Analysis \n",
    "We want to investigate which currency is used the most in advertising, so we count the numbers of each kind of currency and plot it in a bar chart. The bar chart shows that USD is used the most in advertising compared to other currency.\n"
   ]
  },
  {
   "cell_type": "code",
   "execution_count": 14,
   "metadata": {},
   "outputs": [
    {
     "data": {
      "text/html": [
       "<div>\n",
       "<style scoped>\n",
       "    .dataframe tbody tr th:only-of-type {\n",
       "        vertical-align: middle;\n",
       "    }\n",
       "\n",
       "    .dataframe tbody tr th {\n",
       "        vertical-align: top;\n",
       "    }\n",
       "\n",
       "    .dataframe thead th {\n",
       "        text-align: right;\n",
       "    }\n",
       "</style>\n",
       "<table border=\"1\" class=\"dataframe\">\n",
       "  <thead>\n",
       "    <tr style=\"text-align: right;\">\n",
       "      <th></th>\n",
       "      <th>counts</th>\n",
       "    </tr>\n",
       "  </thead>\n",
       "  <tbody>\n",
       "    <tr>\n",
       "      <td>USD</td>\n",
       "      <td>2532</td>\n",
       "    </tr>\n",
       "    <tr>\n",
       "      <td>EUR</td>\n",
       "      <td>708</td>\n",
       "    </tr>\n",
       "    <tr>\n",
       "      <td>GBP</td>\n",
       "      <td>588</td>\n",
       "    </tr>\n",
       "    <tr>\n",
       "      <td>CAD</td>\n",
       "      <td>400</td>\n",
       "    </tr>\n",
       "    <tr>\n",
       "      <td>AUD</td>\n",
       "      <td>40</td>\n",
       "    </tr>\n",
       "  </tbody>\n",
       "</table>\n",
       "</div>"
      ],
      "text/plain": [
       "     counts\n",
       "USD    2532\n",
       "EUR     708\n",
       "GBP     588\n",
       "CAD     400\n",
       "AUD      40"
      ]
     },
     "execution_count": 14,
     "metadata": {},
     "output_type": "execute_result"
    }
   ],
   "source": [
    "ads['Currency Code'].value_counts().to_frame().rename(columns={'Currency Code': 'counts'})"
   ]
  },
  {
   "cell_type": "code",
   "execution_count": 15,
   "metadata": {},
   "outputs": [
    {
     "data": {
      "text/plain": [
       "<matplotlib.axes._subplots.AxesSubplot at 0x1c1e9f589c8>"
      ]
     },
     "execution_count": 15,
     "metadata": {},
     "output_type": "execute_result"
    },
    {
     "data": {
      "image/png": "[encoded data removed]",
      "text/plain": [
       "<Figure size 432x288 with 1 Axes>"
      ]
     },
     "metadata": {
      "image/png": {
       "height": 263,
       "width": 380
      },
      "needs_background": "light"
     },
     "output_type": "display_data"
    }
   ],
   "source": [
    "ads['Currency Code'].value_counts().plot(kind='barh', title='The Frequency of Different Currency Used in Advertising')"
   ]
  },
  {
   "cell_type": "markdown",
   "metadata": {},
   "source": [
    "#### Bivariate Analysis \n",
    "We want to ﬁnd the relationship between ads impressions and the spending on ads. By showing scatter plot, we can conclude that generally there is a positive relationship between ads impressions and spending. The more advertisers spend, the more numbers of times the ad has been viewed by Snapchatters."
   ]
  },
  {
   "cell_type": "code",
   "execution_count": 17,
   "metadata": {},
   "outputs": [
    {
     "data": {
      "text/plain": [
       "Text(0.5, 1.0, 'The Relationship Between Ads Impressions and Spending')"
      ]
     },
     "execution_count": 17,
     "metadata": {},
     "output_type": "execute_result"
    },
    {
     "data": {
      "image/png": "[encoded data removed]",
      "text/plain": [
       "<Figure size 432x288 with 1 Axes>"
      ]
     },
     "metadata": {
      "image/png": {
       "height": 276,
       "width": 399
      },
      "needs_background": "light"
     },
     "output_type": "display_data"
    }
   ],
   "source": [
    "# Draw scatter plot to show the relationship between ads impressions and spendin g \n",
    "plt.scatter(ads['Impressions'], ads['New_Spend']) \n",
    "plt.title('The Relationship Between Ads Impressions and Spending')"
   ]
  },
  {
   "cell_type": "markdown",
   "metadata": {},
   "source": [
    "#### Interesting Aggregates \n",
    "We want to analyze average ads spending by currency. First, we need to groupby Currency Code using the mean of 'New_Spend', then plot it as a bar chart. We can conclude from the graph that on average, AUD is spentmorethanothercurrencies. "
   ]
  },
  {
   "cell_type": "code",
   "execution_count": 18,
   "metadata": {},
   "outputs": [
    {
     "data": {
      "text/html": [
       "<div>\n",
       "<style scoped>\n",
       "    .dataframe tbody tr th:only-of-type {\n",
       "        vertical-align: middle;\n",
       "    }\n",
       "\n",
       "    .dataframe tbody tr th {\n",
       "        vertical-align: top;\n",
       "    }\n",
       "\n",
       "    .dataframe thead th {\n",
       "        text-align: right;\n",
       "    }\n",
       "</style>\n",
       "<table border=\"1\" class=\"dataframe\">\n",
       "  <thead>\n",
       "    <tr style=\"text-align: right;\">\n",
       "      <th></th>\n",
       "      <th>New_Spend</th>\n",
       "    </tr>\n",
       "    <tr>\n",
       "      <th>Currency Code</th>\n",
       "      <th></th>\n",
       "    </tr>\n",
       "  </thead>\n",
       "  <tbody>\n",
       "    <tr>\n",
       "      <td>AUD</td>\n",
       "      <td>3575.532500</td>\n",
       "    </tr>\n",
       "    <tr>\n",
       "      <td>CAD</td>\n",
       "      <td>1554.565900</td>\n",
       "    </tr>\n",
       "    <tr>\n",
       "      <td>EUR</td>\n",
       "      <td>970.709703</td>\n",
       "    </tr>\n",
       "    <tr>\n",
       "      <td>GBP</td>\n",
       "      <td>855.539677</td>\n",
       "    </tr>\n",
       "    <tr>\n",
       "      <td>USD</td>\n",
       "      <td>1974.964060</td>\n",
       "    </tr>\n",
       "  </tbody>\n",
       "</table>\n",
       "</div>"
      ],
      "text/plain": [
       "                 New_Spend\n",
       "Currency Code             \n",
       "AUD            3575.532500\n",
       "CAD            1554.565900\n",
       "EUR             970.709703\n",
       "GBP             855.539677\n",
       "USD            1974.964060"
      ]
     },
     "execution_count": 18,
     "metadata": {},
     "output_type": "execute_result"
    }
   ],
   "source": [
    "ads.groupby('Currency Code')['New_Spend'].mean().to_frame()"
   ]
  },
  {
   "cell_type": "code",
   "execution_count": 19,
   "metadata": {},
   "outputs": [
    {
     "data": {
      "text/plain": [
       "<matplotlib.axes._subplots.AxesSubplot at 0x1c1ea307308>"
      ]
     },
     "execution_count": 19,
     "metadata": {},
     "output_type": "execute_result"
    },
    {
     "data": {
      "image/png": "[encoded data removed]",
      "text/plain": [
       "<Figure size 432x288 with 1 Axes>"
      ]
     },
     "metadata": {
      "image/png": {
       "height": 263,
       "width": 391
      },
      "needs_background": "light"
     },
     "output_type": "display_data"
    }
   ],
   "source": [
    "ads.groupby('Currency Code')['New_Spend'].mean().plot(kind='barh', title='averag e spend by different currency')"
   ]
  },
  {
   "cell_type": "markdown",
   "metadata": {},
   "source": [
    "### Assessment of Missingness"
   ]
  },
  {
   "cell_type": "code",
   "execution_count": 32,
   "metadata": {},
   "outputs": [],
   "source": [
    "# Clean the data and make it contain necessary information \n",
    "ad = ads.copy() \n",
    "ad = ad[['Currency Code','Impressions','New_Spend','CandidateBallotInformation', 'Regions (Included)']]"
   ]
  },
  {
   "cell_type": "code",
   "execution_count": 33,
   "metadata": {},
   "outputs": [],
   "source": [
    "# Pick column \"Regions (Included)\" to analyze missingness \n",
    "ad['is_null'] = ad['Regions (Included)'].isnull()"
   ]
  },
  {
   "cell_type": "markdown",
   "metadata": {},
   "source": [
    "#### Test Independence \n",
    "We pick column 'Regions (Included)' to analyze missingness and test if missingness is dependent on column 'CandidateBallotInformation'.\n"
   ]
  },
  {
   "cell_type": "code",
   "execution_count": 34,
   "metadata": {},
   "outputs": [
    {
     "data": {
      "text/html": [
       "<div>\n",
       "<style scoped>\n",
       "    .dataframe tbody tr th:only-of-type {\n",
       "        vertical-align: middle;\n",
       "    }\n",
       "\n",
       "    .dataframe tbody tr th {\n",
       "        vertical-align: top;\n",
       "    }\n",
       "\n",
       "    .dataframe thead th {\n",
       "        text-align: right;\n",
       "    }\n",
       "</style>\n",
       "<table border=\"1\" class=\"dataframe\">\n",
       "  <thead>\n",
       "    <tr style=\"text-align: right;\">\n",
       "      <th>CandidateBallotInformation</th>\n",
       "      <th>Aebischer</th>\n",
       "      <th>Bella Womens Center</th>\n",
       "      <th>...</th>\n",
       "      <th>Warren for President</th>\n",
       "      <th>William Stowell</th>\n",
       "    </tr>\n",
       "    <tr>\n",
       "      <th>is_null</th>\n",
       "      <th></th>\n",
       "      <th></th>\n",
       "      <th></th>\n",
       "      <th></th>\n",
       "      <th></th>\n",
       "    </tr>\n",
       "  </thead>\n",
       "  <tbody>\n",
       "    <tr>\n",
       "      <td>False</td>\n",
       "      <td>NaN</td>\n",
       "      <td>NaN</td>\n",
       "      <td>...</td>\n",
       "      <td>0.010417</td>\n",
       "      <td>0.010417</td>\n",
       "    </tr>\n",
       "    <tr>\n",
       "      <td>True</td>\n",
       "      <td>0.006329</td>\n",
       "      <td>0.00211</td>\n",
       "      <td>...</td>\n",
       "      <td>0.242616</td>\n",
       "      <td>NaN</td>\n",
       "    </tr>\n",
       "  </tbody>\n",
       "</table>\n",
       "<p>2 rows × 71 columns</p>\n",
       "</div>"
      ],
      "text/plain": [
       "CandidateBallotInformation  Aebischer  Bella Womens Center  ...  \\\n",
       "is_null                                                     ...   \n",
       "False                             NaN                  NaN  ...   \n",
       "True                         0.006329              0.00211  ...   \n",
       "\n",
       "CandidateBallotInformation  Warren for President  William Stowell  \n",
       "is_null                                                            \n",
       "False                                   0.010417         0.010417  \n",
       "True                                    0.242616              NaN  \n",
       "\n",
       "[2 rows x 71 columns]"
      ]
     },
     "execution_count": 34,
     "metadata": {},
     "output_type": "execute_result"
    }
   ],
   "source": [
    "# conditinal empirical distribution of CandidateBallotInformation by null and no t-null \n",
    "distr = (    \n",
    "    ad    \n",
    "    .pivot_table(index='is_null', columns='CandidateBallotInformation', aggfunc= 'size')    \n",
    "    .apply(lambda x:x / x.sum(), axis=1) \n",
    ") \n",
    "distr"
   ]
  },
  {
   "cell_type": "code",
   "execution_count": 35,
   "metadata": {},
   "outputs": [
    {
     "data": {
      "text/plain": [
       "0.1307357594936709"
      ]
     },
     "execution_count": 35,
     "metadata": {},
     "output_type": "execute_result"
    }
   ],
   "source": [
    "# Calculate observed obs \n",
    "obs = distr.diff().iloc[-1].abs().sum() / 2 \n",
    "obs"
   ]
  },
  {
   "cell_type": "code",
   "execution_count": 37,
   "metadata": {},
   "outputs": [],
   "source": [
    "# Conduct permutation test with 500 repetitions \n",
    "n_repetitions = 500 \n",
    "tvds = [] \n",
    "\n",
    "for _ in range(n_repetitions):       \n",
    "    # shuffle the gender column    \n",
    "    shuffled_col = (        \n",
    "        ad['CandidateBallotInformation']        \n",
    "        .sample(replace=False, frac=1)        \n",
    "        .reset_index(drop=True)    \n",
    "    )   \n",
    "    \n",
    "    # put them in a table    \n",
    "    shuffled = (        \n",
    "        ad        \n",
    "        .assign(**{            \n",
    "            'CandidateBallotInformation': shuffled_col,            \n",
    "            'is_null': ads['Regions (Included)'].isnull()        \n",
    "        })    \n",
    "    )        \n",
    "    \n",
    "    # compute the tvd    \n",
    "    shuffled = (        \n",
    "        shuffled        \n",
    "        .pivot_table(index='is_null', columns='CandidateBallotInformation', aggfunc='size')        \n",
    "        .apply(lambda x:x / x.sum(), axis=1)    \n",
    "    )   \n",
    "    \n",
    "    tvd = shuffled.diff().iloc[-1].abs().sum() / 2  \n",
    "    \n",
    "    # add it to the list of results\n",
    "    tvds.append(tvd)"
   ]
  },
  {
   "cell_type": "code",
   "execution_count": 38,
   "metadata": {},
   "outputs": [
    {
     "data": {
      "text/plain": [
       "0.412"
      ]
     },
     "execution_count": 38,
     "metadata": {},
     "output_type": "execute_result"
    },
    {
     "data": {
      "image/png": "[encoded data removed]",
      "text/plain": [
       "<Figure size 432x288 with 1 Axes>"
      ]
     },
     "metadata": {
      "image/png": {
       "height": 263,
       "width": 395
      },
      "needs_background": "light"
     },
     "output_type": "display_data"
    }
   ],
   "source": [
    "# Calculate pval with significant level of 0.05 \n",
    "pval = np.mean(tvds > obs) \n",
    "pd.Series(tvds).plot(kind='hist', density=True, alpha=0.8, title='p-value: %f' % pval) \n",
    "plt.scatter(obs, 0, color='red', s=40); \n",
    "pval"
   ]
  },
  {
   "cell_type": "markdown",
   "metadata": {},
   "source": [
    "Since pval is greater than 0.05, we fail to reject null hypothesis. \n",
    "\n",
    "Then we can conclude that the region included data is not related to/ not dependent on candidate ballot information. Because ads managers mostly just want to advertise for their camps in as many regions as possible, regions included might not related to the candiate ballot information.\n"
   ]
  },
  {
   "cell_type": "markdown",
   "metadata": {},
   "source": [
    "#### Test Dependence\n",
    "We pick column 'Regions (Included)' to analyze missingness and test if missingness is dependent on column 'New_Spend'.\n"
   ]
  },
  {
   "cell_type": "code",
   "execution_count": 40,
   "metadata": {},
   "outputs": [],
   "source": [
    "# Pick column Regions (Included) to analyze missingness \n",
    "ad['is_null'] = ad['Regions (Included)'].isnull()"
   ]
  },
  {
   "cell_type": "code",
   "execution_count": 41,
   "metadata": {},
   "outputs": [
    {
     "data": {
      "text/plain": [
       "is_null\n",
       "False    AxesSubplot(0.125,0.125;0.775x0.755)\n",
       "True     AxesSubplot(0.125,0.125;0.775x0.755)\n",
       "Name: New_Spend, dtype: object"
      ]
     },
     "execution_count": 41,
     "metadata": {},
     "output_type": "execute_result"
    },
    {
     "data": {
      "image/png": "[encoded data removed]",
      "text/plain": [
       "<Figure size 432x288 with 1 Axes>"
      ]
     },
     "metadata": {
      "image/png": {
       "height": 263,
       "width": 411
      },
      "needs_background": "light"
     },
     "output_type": "display_data"
    }
   ],
   "source": [
    "# Draw graph of spend by the missingess of Regions (Included) \n",
    "ad.groupby('is_null').New_Spend.plot(kind='kde', legend=True,  title='Spend by missingness of Regions (Included)')"
   ]
  },
  {
   "cell_type": "code",
   "execution_count": 42,
   "metadata": {},
   "outputs": [
    {
     "data": {
      "text/plain": [
       "859.8275235610192"
      ]
     },
     "execution_count": 42,
     "metadata": {},
     "output_type": "execute_result"
    }
   ],
   "source": [
    "# Find observed value by calculate difference of means and use it as our statistic \n",
    "obs2 = ad.groupby('is_null')['New_Spend'].mean().diff().abs().iloc[-1] \n",
    "obs2"
   ]
  },
  {
   "cell_type": "code",
   "execution_count": 43,
   "metadata": {},
   "outputs": [],
   "source": [
    "# Conduct permutation test and append all means from 500 repetitions \n",
    "n_repetitions = 500 \n",
    "means = [] \n",
    "\n",
    "for _ in range(n_repetitions):       \n",
    "    # shuffle the gender column    \n",
    "    shuffled_col = (        \n",
    "        ad['New_Spend']        \n",
    "        .sample(replace=False, frac=1)        \n",
    "        .reset_index(drop=True)    \n",
    "    )        \n",
    "    \n",
    "    # put them in a table    \n",
    "    shuffled = (        \n",
    "        ad        \n",
    "        .assign(**{            \n",
    "            'New_Spend': shuffled_col,            \n",
    "            'is_null': ad['Regions (Included)'].isnull()        \n",
    "        })    \n",
    "    )     \n",
    "    \n",
    "    # compute the differences in means    \n",
    "    mean = shuffled.groupby('is_null')['New_Spend'].mean().diff().abs().iloc[-1]    \n",
    "    means.append(mean)"
   ]
  },
  {
   "cell_type": "code",
   "execution_count": 44,
   "metadata": {},
   "outputs": [
    {
     "data": {
      "text/plain": [
       "0.018"
      ]
     },
     "execution_count": 44,
     "metadata": {},
     "output_type": "execute_result"
    },
    {
     "data": {
      "image/png": "[encoded data removed]",
      "text/plain": [
       "<Figure size 432x288 with 1 Axes>"
      ]
     },
     "metadata": {
      "image/png": {
       "height": 263,
       "width": 405
      },
      "needs_background": "light"
     },
     "output_type": "display_data"
    }
   ],
   "source": [
    "# Calculate pval with significance level of 0.05 \n",
    "pval2 = np.mean(means >= obs2) \n",
    "pd.Series(means).plot(kind='hist', density=True, alpha=0.8, title='p-value: %f' % pval2) \n",
    "plt.scatter(obs2, 0, color='red', s=40) \n",
    "pval2 "
   ]
  },
  {
   "cell_type": "markdown",
   "metadata": {},
   "source": [
    "As 0.036 is smaller than the 0.05, we could explain that these two distributions are not similar and reject the null hypothesis. In this case, we could say that the missingness of region included is dependent on the spend. \n",
    "\n",
    "Becuase of diﬀerent spending, ads manager might decide to put ads with higher spends into the regions which are larger than other states or put them into more regions. If the ad managers put data into many diﬀerent regions, they might not or forget to provide the targeting criteria data about included region. \n",
    "\n",
    "Since our question is about the characteristics of the ads with many impressions, we might not be able to draw direct conclusion from the missingness assessment here. But we still get valueable relations in this process."
   ]
  },
  {
   "cell_type": "markdown",
   "metadata": {},
   "source": [
    "### Hypothesis Test \n",
    "In order to probe deeper on what characteristics of ads maximize an ad's reach, we need to explore more on whether the impressions are inﬂuenced by the targeting countries. It is obvious that the United States takes the biggest proportion of being targeted. We are wondeirng if we can randomly choose countries from the populations, whether the result will be diﬀerent. \n",
    "\n",
    "* Null Hypothesis: The average impressions of targeting United States is similar to the average impressions of targeting other countries. \n",
    "\n",
    "* Alternative Hypothesis: No, the average impressions of targeting United States is totally diﬀerent from the average impressions of targeting other countries. \n",
    "\n",
    "We choose the average of impressions as out test statistics, and signiﬁcant level of 0.05."
   ]
  },
  {
   "cell_type": "code",
   "execution_count": 45,
   "metadata": {},
   "outputs": [
    {
     "data": {
      "text/plain": [
       "2287"
      ]
     },
     "execution_count": 45,
     "metadata": {},
     "output_type": "execute_result"
    }
   ],
   "source": [
    "# Get the number of CountryCode which is united states \n",
    "usa_size = ads.loc[ads['CountryCode'] == 'united states'].shape[0] \n",
    "usa_size"
   ]
  },
  {
   "cell_type": "code",
   "execution_count": 46,
   "metadata": {},
   "outputs": [
    {
     "data": {
      "text/plain": [
       "1981"
      ]
     },
     "execution_count": 46,
     "metadata": {},
     "output_type": "execute_result"
    }
   ],
   "source": [
    "# Get the number of CountryCode which is not united states (rest of countries) \n",
    "other_size = ads.loc[ads['CountryCode'] != 'united states'].shape[0] \n",
    "other_size"
   ]
  },
  {
   "cell_type": "code",
   "execution_count": 47,
   "metadata": {},
   "outputs": [
    {
     "data": {
      "text/plain": [
       "761441.0179274158"
      ]
     },
     "execution_count": 47,
     "metadata": {},
     "output_type": "execute_result"
    }
   ],
   "source": [
    "# Use the average of Impressions as the test statistics, \n",
    "# calculate the average of Impressions of CountryCode which is united states \n",
    "observed_avg = ads.loc[ads['CountryCode'] == 'united states', 'Impressions'].mean() \n",
    "observed_avg"
   ]
  },
  {
   "cell_type": "code",
   "execution_count": 48,
   "metadata": {},
   "outputs": [],
   "source": [
    "# Conduct null hypothesis by sampling uniformly with the size of united states \n",
    "N_trials =  1000 \n",
    "averages = [] \n",
    "\n",
    "for i in np.arange(N_trials):    \n",
    "    random_sample = ads.sample(int(usa_size), replace=False)    \n",
    "    new_average = np.mean(random_sample['Impressions'])    \n",
    "    averages.append(new_average)     \n",
    "\n",
    "averages = np.array(averages)"
   ]
  },
  {
   "cell_type": "code",
   "execution_count": 49,
   "metadata": {},
   "outputs": [
    {
     "data": {
      "text/plain": [
       "<matplotlib.collections.PathCollection at 0x1c1eaaa8648>"
      ]
     },
     "execution_count": 49,
     "metadata": {},
     "output_type": "execute_result"
    },
    {
     "data": {
      "image/png": "[encoded data removed]",
      "text/plain": [
       "<Figure size 432x288 with 1 Axes>"
      ]
     },
     "metadata": {
      "image/png": {
       "height": 263,
       "width": 398
      },
      "needs_background": "light"
     },
     "output_type": "display_data"
    }
   ],
   "source": [
    "# Plot the result distribution \n",
    "pd.Series(averages, name='Average').plot(    \n",
    "    kind='hist',     \n",
    "    bins=25,    \n",
    "    title = 'average impressions from randomly created sections' \n",
    ") \n",
    "plt.scatter(observed_avg, 0, color='red', s=40)"
   ]
  },
  {
   "cell_type": "code",
   "execution_count": 50,
   "metadata": {},
   "outputs": [
    {
     "data": {
      "text/plain": [
       "0.22"
      ]
     },
     "execution_count": 50,
     "metadata": {},
     "output_type": "execute_result"
    }
   ],
   "source": [
    "# Calculate the pval of the null hypithesis with significance level of 0.05 \n",
    "pval3 = np.count_nonzero(averages >= observed_avg) / N_trials \n",
    "pval3"
   ]
  },
  {
   "cell_type": "markdown",
   "metadata": {},
   "source": [
    "The resulting p-value is 0.22, which is greater than our signiﬁcance level 0.05. So, we fail to reject the null hypothesis that the average impressions of targeting United States is similar to the average impressions of targeting other countries. Knowing this can help us understand that there is no diﬀerence to target the United States and other countries in order to maximize ad's reach, although the United States is the most targeting country to deliver ads."
   ]
  },
  {
   "cell_type": "markdown",
   "metadata": {},
   "source": [
    "## Part 2 Introduction: \n",
    "### predictions and modeling\n",
    "\n",
    "The prediction problem for our project is that: how can we make a good prediction of spending by\n",
    "advertisers over the campaign? We need to determine the features to use and develop suitable models for\n",
    "prediction. We used a regression model to do experiments on different features and see what features can\n",
    "be applied to the prediction of “new_spend”. Our target variable is new_spend, which is the amount (In local\n",
    "currency) spent by the advertiser over the campaign (up to the current date) and modified by their currency\n",
    "rate against dollars. In order to justify our final model (compare to the baseline model), we chose to use r\n",
    "square score (objective) to see if the model and features are applicable. R square is the coefficient of\n",
    "determination, which represents the proportion of the variance for a dependent variable that's explained by\n",
    "an independent variable or variables in a regression model. In this case, higher r square value refers to better fit into the data (better model, engineering for features)."
   ]
  },
  {
   "cell_type": "markdown",
   "metadata": {},
   "source": [
    "### Baseline Model \n",
    "The number of features we choose from our baseline model are four features: “Region”, “Gender”, “CandidateBallotInformation” and “Language”. The ﬁrst three are nominal features and the last one is a quantitative feature. By choosing “Region” column, we want to investigate whether the targeting regions for ads will inﬂuence the spending on Ads. And for “Genders”, we want to see if there is a relationship between targeting genders for Ads and the spending on Ads. At last, we choose “CandidateBallotInformation” to ﬁnd whether there is a correlation that whether providing candidate information in Ads or not will inﬂuence the Spending in Ads. We plan to choose these variables because we want to see if categorical data play an important role in relation with our targeting variable, so we just ignore other numerical data. And also choosing a quantitative data type is helpful for us to investigate which quantitative data improve our model the most. \n",
    "\n",
    "For the “Region” column, we assign each value from the “CountryCode” column with the relative region name. For example, we assign “united states” with “NA” which stands for “North America”. Based on the “CountryCode” column, we ﬁnd there are six unique region values in our new “Region” column, which are “North America”, “Africa”, “Europe”, “Asia”, “Oceania” (we abbreviate it as “AU”) and “South America”. For “Gender” column, we impute null value as “BOTH”, since If it is empty, then it is targeting all genders. For the “CandidateBallotInformation” column, we mark the null value as 0 and the others to be 1, since if there is the name of the candidate/ ballot initiative associated with the Ad, we want to count it in our model. And the “Language” column is originally a nominal type, we change it to numerical feature by counting how many languages it is targeting in Ads. \n",
    "\n",
    "In our baseline model, we want to ﬁnd the relationship between our targeting variable -- Spending on the Ad and the targeting regions, genders, languages and candidate information, so we train our baseline model with a pipeline of one-coding, standard scaler, and linear regression. By using train_test_split method and calculate R-score, which measures the strength of the relationship between the model and the targeting variable on a convenient 0 – 100% scale, we conclude that a model does not really explain the variation in the response variable around its mean. Since the outcome of R-square is relatively small, we think it is not good for our prediction. We can say that there is little relationship (or the relation is not so obvious) between the spending on Ad and the features we choose, which are “Region”, “Genders”, “CandidateBallotInformation” and “Language”."
   ]
  },
  {
   "cell_type": "markdown",
   "metadata": {},
   "source": [
    "### Final Model\n",
    "In our ﬁnal model, we want to add other features which include numerical features like “Impressions” and “Interests”. We think numerical data like “Impressions” and “Interests” have a closer relationship with our targeting quantitative data “New_Spend”. For example, “Impressions” means the number of times the Ad has been viewed by Snapchatters. The data itself is totally random ranging from a very small number to a very large number, so from a macroscopic view, we can see if there is a relationship between our features and the targeting variable. \n",
    "\n",
    "The model type we choose is K-Nearest Neighbors regressor. We also test the linear regression, but we ﬁnd that the R^2 score for the ideal possible k-nearest neighbors regressor is higher than that for linear regression. And the parameter(n_neighbors) that ended up performing the best is 4 because it has the highest R^2 score, and it has a strongest relationship with our targeting data. The method we choose for the model selection is to train and test data, compare the R^2 score, and ﬁnd the parameters with the highest R^2 score. We choose K-Nearest Neighbors rather than Linear Regression also because K-Nearest Neighbors are more ﬂexible since we can choose parameters to get diﬀerent R^2 scores. \n",
    "\n",
    "We use column transformers to train our diﬀerent types of data. We train our newly added features “Impressions” and “Interests” using RobustScalar() since this kind of scalar is typically done by removing the mean and scaling to unit variance, which can avoid the inﬂuence by the outlier. We also want to pass other parameters just to see whether other parameters also have the relationship with the spending on Ads. After ﬁtting and training our data, we ﬁnd that the resulting R^2 score has greatly improved compared to our baseline model, which is around 0.5. Also, we use for-loop to get a column of R^2 and ﬁnd the best parameter using idxmax(), which is 2. So, we can conclude that “Impressions” and “Interests” (especially “Impressions”) such numerical features perform the best in our model, which we can say that there is a stronger relationship between the views of the Ads by users and the spending on Ads, and the best parameter is 2 in this case. More speciﬁcally, spending more on Ads may result in more views in Ads.\n"
   ]
  },
  {
   "cell_type": "markdown",
   "metadata": {},
   "source": [
    "### Fairness Evaluation \n",
    "In order to evaluate the fairness of our model, we picked the subset of the data: “New_Spend”, which is the amount (In local currency) spent by the advertiser over the campaign (up to the current date) and modiﬁed by their currency rate against dollars. And we created two attributes for this subset: large and small. Large is for part of data which new_spend is greater than the mean of the new_spend, whereas small refers to where new_spend is smaller than the mean of the new_spend. Then we run a permutation test to see if our ﬁnal model performs “fairly” on these two attributes. Our null hypothesis is that the ﬁnal model performs fairly on these two attributes, which means that this model is “fair”. The observed statistic will be the diﬀerence between the R^2 score of the modeling on these two attributes. And test statistics would be the diﬀerence between the R^2 score of the modeling on these two attributes. Then we got the p value 1.0 and chose the signiﬁcance level 0.01. In this case, we fail to reject the null hypothesis. \n",
    "\n",
    "For the parity measure we use, because we are doing linear regression in our ﬁnal model, it doesn’t make sense to use accuracy as accuracy for regressors would almost always be 0 or very close to 0 since it is hard to predict the exact continued value. Then we chose to use the R^2 score to measure the fairness of our model. R square is the coeﬃcient of determination, which represents the proportion of the variance for a dependent variable that's explained by an independent variable or variables in a regression model. In this case, if we compare the r square for these two attributes, we can tell whether our model ﬁts into these two attributes well to similar extent.\n"
   ]
  },
  {
   "cell_type": "markdown",
   "metadata": {},
   "source": [
    "### Code"
   ]
  },
  {
   "cell_type": "code",
   "execution_count": 1,
   "metadata": {},
   "outputs": [],
   "source": [
    "# import sklearn packages \n",
    "from sklearn.linear_model import LinearRegression \n",
    "from sklearn.preprocessing import FunctionTransformer \n",
    "from sklearn.preprocessing import OneHotEncoder \n",
    "from sklearn.pipeline import Pipeline \n",
    "from sklearn.compose import ColumnTransformer \n",
    "from sklearn.tree import DecisionTreeRegressor \n",
    "from sklearn.model_selection import train_test_split \n",
    "from sklearn.neighbors import KNeighborsRegressor \n",
    "from sklearn.model_selection import train_test_split \n",
    "from sklearn.model_selection import cross_val_score \n",
    "import sklearn.ensemble as es \n",
    "from sklearn.preprocessing import StandardScaler \n",
    "from sklearn.preprocessing import RobustScaler \n",
    "from sklearn.neighbors import KNeighborsRegressor \n",
    "from sklearn.metrics import r2_score \n",
    "from sklearn import metrics"
   ]
  },
  {
   "cell_type": "code",
   "execution_count": 55,
   "metadata": {},
   "outputs": [
    {
     "data": {
      "text/html": [
       "<div>\n",
       "<style scoped>\n",
       "    .dataframe tbody tr th:only-of-type {\n",
       "        vertical-align: middle;\n",
       "    }\n",
       "\n",
       "    .dataframe tbody tr th {\n",
       "        vertical-align: top;\n",
       "    }\n",
       "\n",
       "    .dataframe thead th {\n",
       "        text-align: right;\n",
       "    }\n",
       "</style>\n",
       "<table border=\"1\" class=\"dataframe\">\n",
       "  <thead>\n",
       "    <tr style=\"text-align: right;\">\n",
       "      <th></th>\n",
       "      <th>ADID</th>\n",
       "      <th>CreativeUrl</th>\n",
       "      <th>Currency Code</th>\n",
       "      <th>Spend</th>\n",
       "      <th>Impressions</th>\n",
       "      <th>StartDate</th>\n",
       "      <th>EndDate</th>\n",
       "      <th>OrganizationName</th>\n",
       "      <th>BillingAddress</th>\n",
       "      <th>CandidateBallotInformation</th>\n",
       "      <th>...</th>\n",
       "      <th>Location Categories (Included)</th>\n",
       "      <th>Location Categories (Excluded)</th>\n",
       "      <th>Interests</th>\n",
       "      <th>OsType</th>\n",
       "      <th>Segments</th>\n",
       "      <th>Language</th>\n",
       "      <th>AdvancedDemographics</th>\n",
       "      <th>Targeting Connection Type</th>\n",
       "      <th>Targeting Carrier (ISP)</th>\n",
       "      <th>CreativeProperties</th>\n",
       "    </tr>\n",
       "  </thead>\n",
       "  <tbody>\n",
       "    <tr>\n",
       "      <td>0</td>\n",
       "      <td>6f6f6abb25d183bc3f0a2df46d18c65a18f6e1cac73416...</td>\n",
       "      <td>https://www.snap.com/political-ads/asset/a213d...</td>\n",
       "      <td>USD</td>\n",
       "      <td>35</td>\n",
       "      <td>16678</td>\n",
       "      <td>2018/11/06 18:21:20Z</td>\n",
       "      <td>2018/11/07 01:19:08Z</td>\n",
       "      <td>Research Triangle Student Advocacy</td>\n",
       "      <td>US</td>\n",
       "      <td>NaN</td>\n",
       "      <td>...</td>\n",
       "      <td>NaN</td>\n",
       "      <td>NaN</td>\n",
       "      <td>NaN</td>\n",
       "      <td>NaN</td>\n",
       "      <td>Provided by Advertiser</td>\n",
       "      <td>NaN</td>\n",
       "      <td>NaN</td>\n",
       "      <td>NaN</td>\n",
       "      <td>NaN</td>\n",
       "      <td>NaN</td>\n",
       "    </tr>\n",
       "    <tr>\n",
       "      <td>1</td>\n",
       "      <td>5195d68c146526eda7c30c64b9bef15ae86d8250c9a226...</td>\n",
       "      <td>https://www.snap.com/political-ads/asset/5c0b7...</td>\n",
       "      <td>USD</td>\n",
       "      <td>6</td>\n",
       "      <td>4846</td>\n",
       "      <td>2018/12/01 17:37:10Z</td>\n",
       "      <td>2018/12/11 05:37:02Z</td>\n",
       "      <td>LPM</td>\n",
       "      <td>GB</td>\n",
       "      <td>NaN</td>\n",
       "      <td>...</td>\n",
       "      <td>NaN</td>\n",
       "      <td>NaN</td>\n",
       "      <td>NaN</td>\n",
       "      <td>NaN</td>\n",
       "      <td>Provided by Advertiser</td>\n",
       "      <td>NaN</td>\n",
       "      <td>NaN</td>\n",
       "      <td>NaN</td>\n",
       "      <td>NaN</td>\n",
       "      <td>web_view_url:http://jidesanwoolu.ng/</td>\n",
       "    </tr>\n",
       "    <tr>\n",
       "      <td>2</td>\n",
       "      <td>64d906646b616c034c91b69b9e7851944844eb456dd203...</td>\n",
       "      <td>https://www.snap.com/political-ads/asset/e56c0...</td>\n",
       "      <td>USD</td>\n",
       "      <td>56</td>\n",
       "      <td>11770</td>\n",
       "      <td>2018/09/28 23:10:14Z</td>\n",
       "      <td>2018/10/17 02:00:00Z</td>\n",
       "      <td>Chong and Koster</td>\n",
       "      <td>1640 Rhode Island Ave. NW, Suite 600,Washingto...</td>\n",
       "      <td>NaN</td>\n",
       "      <td>...</td>\n",
       "      <td>NaN</td>\n",
       "      <td>NaN</td>\n",
       "      <td>NaN</td>\n",
       "      <td>NaN</td>\n",
       "      <td>Provided by Advertiser</td>\n",
       "      <td>NaN</td>\n",
       "      <td>Marital Status (Single)</td>\n",
       "      <td>NaN</td>\n",
       "      <td>NaN</td>\n",
       "      <td>web_view_url:https://www.voterparticipation.or...</td>\n",
       "    </tr>\n",
       "    <tr>\n",
       "      <td>3</td>\n",
       "      <td>45d7697e2522ccdd56b699e832792b9b659f7159e180a2...</td>\n",
       "      <td>https://www.snap.com/political-ads/asset/4b9c0...</td>\n",
       "      <td>USD</td>\n",
       "      <td>2048</td>\n",
       "      <td>612521</td>\n",
       "      <td>2018/09/28 19:00:00Z</td>\n",
       "      <td>2018/10/27 03:59:00Z</td>\n",
       "      <td>Güd Marketing</td>\n",
       "      <td>1223 Turner Ave., Suite 101,Lansing,48906,US</td>\n",
       "      <td>NaN</td>\n",
       "      <td>...</td>\n",
       "      <td>NaN</td>\n",
       "      <td>NaN</td>\n",
       "      <td>Adventure Seekers,Beachgoers &amp; Surfers,Cycling...</td>\n",
       "      <td>NaN</td>\n",
       "      <td>Provided by Advertiser</td>\n",
       "      <td>en</td>\n",
       "      <td>NaN</td>\n",
       "      <td>NaN</td>\n",
       "      <td>NaN</td>\n",
       "      <td>web_view_url:https://blockasiancarp.org/take-a...</td>\n",
       "    </tr>\n",
       "    <tr>\n",
       "      <td>4</td>\n",
       "      <td>46d8326f706f56296fa29f51b5127c67190807ccc08534...</td>\n",
       "      <td>https://www.snap.com/political-ads/asset/f512d...</td>\n",
       "      <td>USD</td>\n",
       "      <td>196</td>\n",
       "      <td>23810</td>\n",
       "      <td>2018/10/26 17:58:01Z</td>\n",
       "      <td>2018/11/06 22:59:59Z</td>\n",
       "      <td>Mothership Strategies</td>\n",
       "      <td>1328 Florida Avenue NW, Building C, Washington...</td>\n",
       "      <td>NaN</td>\n",
       "      <td>...</td>\n",
       "      <td>NaN</td>\n",
       "      <td>NaN</td>\n",
       "      <td>NaN</td>\n",
       "      <td>NaN</td>\n",
       "      <td>NaN</td>\n",
       "      <td>NaN</td>\n",
       "      <td>NaN</td>\n",
       "      <td>NaN</td>\n",
       "      <td>NaN</td>\n",
       "      <td>web_view_url:http://votingmatters.org/</td>\n",
       "    </tr>\n",
       "  </tbody>\n",
       "</table>\n",
       "<p>5 rows × 34 columns</p>\n",
       "</div>"
      ],
      "text/plain": [
       "                                                ADID  \\\n",
       "0  6f6f6abb25d183bc3f0a2df46d18c65a18f6e1cac73416...   \n",
       "1  5195d68c146526eda7c30c64b9bef15ae86d8250c9a226...   \n",
       "2  64d906646b616c034c91b69b9e7851944844eb456dd203...   \n",
       "3  45d7697e2522ccdd56b699e832792b9b659f7159e180a2...   \n",
       "4  46d8326f706f56296fa29f51b5127c67190807ccc08534...   \n",
       "\n",
       "                                         CreativeUrl Currency Code  Spend  \\\n",
       "0  https://www.snap.com/political-ads/asset/a213d...           USD     35   \n",
       "1  https://www.snap.com/political-ads/asset/5c0b7...           USD      6   \n",
       "2  https://www.snap.com/political-ads/asset/e56c0...           USD     56   \n",
       "3  https://www.snap.com/political-ads/asset/4b9c0...           USD   2048   \n",
       "4  https://www.snap.com/political-ads/asset/f512d...           USD    196   \n",
       "\n",
       "   Impressions             StartDate               EndDate  \\\n",
       "0        16678  2018/11/06 18:21:20Z  2018/11/07 01:19:08Z   \n",
       "1         4846  2018/12/01 17:37:10Z  2018/12/11 05:37:02Z   \n",
       "2        11770  2018/09/28 23:10:14Z  2018/10/17 02:00:00Z   \n",
       "3       612521  2018/09/28 19:00:00Z  2018/10/27 03:59:00Z   \n",
       "4        23810  2018/10/26 17:58:01Z  2018/11/06 22:59:59Z   \n",
       "\n",
       "                     OrganizationName  \\\n",
       "0  Research Triangle Student Advocacy   \n",
       "1                                 LPM   \n",
       "2                    Chong and Koster   \n",
       "3                       Güd Marketing   \n",
       "4               Mothership Strategies   \n",
       "\n",
       "                                      BillingAddress  \\\n",
       "0                                                 US   \n",
       "1                                                 GB   \n",
       "2  1640 Rhode Island Ave. NW, Suite 600,Washingto...   \n",
       "3       1223 Turner Ave., Suite 101,Lansing,48906,US   \n",
       "4  1328 Florida Avenue NW, Building C, Washington...   \n",
       "\n",
       "  CandidateBallotInformation  ... Location Categories (Included)  \\\n",
       "0                        NaN  ...                            NaN   \n",
       "1                        NaN  ...                            NaN   \n",
       "2                        NaN  ...                            NaN   \n",
       "3                        NaN  ...                            NaN   \n",
       "4                        NaN  ...                            NaN   \n",
       "\n",
       "  Location Categories (Excluded)  \\\n",
       "0                            NaN   \n",
       "1                            NaN   \n",
       "2                            NaN   \n",
       "3                            NaN   \n",
       "4                            NaN   \n",
       "\n",
       "                                           Interests OsType  \\\n",
       "0                                                NaN    NaN   \n",
       "1                                                NaN    NaN   \n",
       "2                                                NaN    NaN   \n",
       "3  Adventure Seekers,Beachgoers & Surfers,Cycling...    NaN   \n",
       "4                                                NaN    NaN   \n",
       "\n",
       "                 Segments Language     AdvancedDemographics  \\\n",
       "0  Provided by Advertiser      NaN                      NaN   \n",
       "1  Provided by Advertiser      NaN                      NaN   \n",
       "2  Provided by Advertiser      NaN  Marital Status (Single)   \n",
       "3  Provided by Advertiser       en                      NaN   \n",
       "4                     NaN      NaN                      NaN   \n",
       "\n",
       "   Targeting Connection Type Targeting Carrier (ISP)  \\\n",
       "0                        NaN                     NaN   \n",
       "1                        NaN                     NaN   \n",
       "2                        NaN                     NaN   \n",
       "3                        NaN                     NaN   \n",
       "4                        NaN                     NaN   \n",
       "\n",
       "                                  CreativeProperties  \n",
       "0                                                NaN  \n",
       "1               web_view_url:http://jidesanwoolu.ng/  \n",
       "2  web_view_url:https://www.voterparticipation.or...  \n",
       "3  web_view_url:https://blockasiancarp.org/take-a...  \n",
       "4             web_view_url:http://votingmatters.org/  \n",
       "\n",
       "[5 rows x 34 columns]"
      ]
     },
     "execution_count": 55,
     "metadata": {},
     "output_type": "execute_result"
    }
   ],
   "source": [
    "# read data \n",
    "ads_2018 = pd.read_csv('ads_2018.csv') \n",
    "ads_2019 = pd.read_csv('ads_2019.csv') \n",
    "ads = pd.concat([ads_2018, ads_2019], ignore_index=True) \n",
    "ads.head()"
   ]
  },
  {
   "cell_type": "code",
   "execution_count": 56,
   "metadata": {},
   "outputs": [],
   "source": [
    "# data cleaning \n",
    "# convert currency to USD \n",
    "currency = {'USD':1, 'EUR':0.93, 'CAD':1.4, 'GBP':0.82, 'AUD':1.55} \n",
    "ads = ads.assign(Rate=ads['Currency Code'].map(currency)) \n",
    "\n",
    "# classify CountryCode \n",
    "region = {'united states':'NA', 'nigeria':'AF', 'norway':'EU', 'canada':'NA', 'netherlands':'EU',           \n",
    "          'iraq':'AS', 'united kingdom':'EU', 'switzerland':'EU', 'sweden':'EU', 'denmark':'EU',           \n",
    "          'australia':'AU', 'belgium':'EU', 'ireland':'EU', 'france':'EU', 'south africa':'AF',           \n",
    "          'austria':'EU', 'finland':'EU', 'turkey':'AS', 'kuwait':'AS', 'puerto rico':'NA',           \n",
    "          'india':'AS', 'poland':'EU', 'chile':'SA', 'argentina':'SA','germany': 'EU',           \n",
    "          'united arab emirates':'AS', 'lithuania':'EU', 'new zealand':'AU', 'brazil':'SA'} \n",
    "\n",
    "# add Region column \n",
    "ads = ads.assign(Region=ads['CountryCode'].map(region)) \n",
    "\n",
    "# add converted spend column \n",
    "ads['New_Spend'] = round(ads['Spend']/ads['Rate'],2)"
   ]
  },
  {
   "cell_type": "code",
   "execution_count": 57,
   "metadata": {},
   "outputs": [],
   "source": [
    "# convert Language column to be the count of language \n",
    "ads['Language'] = ads['Language'].apply(lambda x: len(x.split(',')) if pd.isnull (x) ==False else 0)"
   ]
  },
  {
   "cell_type": "code",
   "execution_count": 58,
   "metadata": {},
   "outputs": [],
   "source": [
    "# convert Interests column to be the count of interests \n",
    "ads['Interests'] = ads['Interests'].fillna(0) \n",
    "ads['Interests'] = ads['Interests'].apply(lambda x: len(x.split(',')) if type(x) is not int else 0)"
   ]
  },
  {
   "cell_type": "code",
   "execution_count": 59,
   "metadata": {},
   "outputs": [],
   "source": [
    "# Impute BOTH to Gender column \n",
    "ads['Gender'] = ads['Gender'].fillna('BOTH')"
   ]
  },
  {
   "cell_type": "code",
   "execution_count": 60,
   "metadata": {},
   "outputs": [],
   "source": [
    "# convert CandidateBallotInformation be to a boolean column \n",
    "ads['CandidateBallotInformation'] = ads['CandidateBallotInformation'].fillna(0) \n",
    "ads['CandidateBallotInformation'] = ads['CandidateBallotInformation'].apply(lambda x: 1 if x is not 0 else 0)"
   ]
  },
  {
   "cell_type": "code",
   "execution_count": 61,
   "metadata": {},
   "outputs": [
    {
     "data": {
      "text/html": [
       "<div>\n",
       "<style scoped>\n",
       "    .dataframe tbody tr th:only-of-type {\n",
       "        vertical-align: middle;\n",
       "    }\n",
       "\n",
       "    .dataframe tbody tr th {\n",
       "        vertical-align: top;\n",
       "    }\n",
       "\n",
       "    .dataframe thead th {\n",
       "        text-align: right;\n",
       "    }\n",
       "</style>\n",
       "<table border=\"1\" class=\"dataframe\">\n",
       "  <thead>\n",
       "    <tr style=\"text-align: right;\">\n",
       "      <th></th>\n",
       "      <th>ADID</th>\n",
       "      <th>CreativeUrl</th>\n",
       "      <th>Currency Code</th>\n",
       "      <th>Spend</th>\n",
       "      <th>Impressions</th>\n",
       "      <th>StartDate</th>\n",
       "      <th>EndDate</th>\n",
       "      <th>OrganizationName</th>\n",
       "      <th>BillingAddress</th>\n",
       "      <th>CandidateBallotInformation</th>\n",
       "      <th>...</th>\n",
       "      <th>OsType</th>\n",
       "      <th>Segments</th>\n",
       "      <th>Language</th>\n",
       "      <th>AdvancedDemographics</th>\n",
       "      <th>Targeting Connection Type</th>\n",
       "      <th>Targeting Carrier (ISP)</th>\n",
       "      <th>CreativeProperties</th>\n",
       "      <th>Rate</th>\n",
       "      <th>Region</th>\n",
       "      <th>New_Spend</th>\n",
       "    </tr>\n",
       "  </thead>\n",
       "  <tbody>\n",
       "    <tr>\n",
       "      <td>0</td>\n",
       "      <td>6f6f6abb25d183bc3f0a2df46d18c65a18f6e1cac73416...</td>\n",
       "      <td>https://www.snap.com/political-ads/asset/a213d...</td>\n",
       "      <td>USD</td>\n",
       "      <td>35</td>\n",
       "      <td>16678</td>\n",
       "      <td>2018/11/06 18:21:20Z</td>\n",
       "      <td>2018/11/07 01:19:08Z</td>\n",
       "      <td>Research Triangle Student Advocacy</td>\n",
       "      <td>US</td>\n",
       "      <td>0</td>\n",
       "      <td>...</td>\n",
       "      <td>NaN</td>\n",
       "      <td>Provided by Advertiser</td>\n",
       "      <td>0</td>\n",
       "      <td>NaN</td>\n",
       "      <td>NaN</td>\n",
       "      <td>NaN</td>\n",
       "      <td>NaN</td>\n",
       "      <td>1.0</td>\n",
       "      <td>NA</td>\n",
       "      <td>35.0</td>\n",
       "    </tr>\n",
       "    <tr>\n",
       "      <td>1</td>\n",
       "      <td>5195d68c146526eda7c30c64b9bef15ae86d8250c9a226...</td>\n",
       "      <td>https://www.snap.com/political-ads/asset/5c0b7...</td>\n",
       "      <td>USD</td>\n",
       "      <td>6</td>\n",
       "      <td>4846</td>\n",
       "      <td>2018/12/01 17:37:10Z</td>\n",
       "      <td>2018/12/11 05:37:02Z</td>\n",
       "      <td>LPM</td>\n",
       "      <td>GB</td>\n",
       "      <td>0</td>\n",
       "      <td>...</td>\n",
       "      <td>NaN</td>\n",
       "      <td>Provided by Advertiser</td>\n",
       "      <td>0</td>\n",
       "      <td>NaN</td>\n",
       "      <td>NaN</td>\n",
       "      <td>NaN</td>\n",
       "      <td>web_view_url:http://jidesanwoolu.ng/</td>\n",
       "      <td>1.0</td>\n",
       "      <td>AF</td>\n",
       "      <td>6.0</td>\n",
       "    </tr>\n",
       "    <tr>\n",
       "      <td>2</td>\n",
       "      <td>64d906646b616c034c91b69b9e7851944844eb456dd203...</td>\n",
       "      <td>https://www.snap.com/political-ads/asset/e56c0...</td>\n",
       "      <td>USD</td>\n",
       "      <td>56</td>\n",
       "      <td>11770</td>\n",
       "      <td>2018/09/28 23:10:14Z</td>\n",
       "      <td>2018/10/17 02:00:00Z</td>\n",
       "      <td>Chong and Koster</td>\n",
       "      <td>1640 Rhode Island Ave. NW, Suite 600,Washingto...</td>\n",
       "      <td>0</td>\n",
       "      <td>...</td>\n",
       "      <td>NaN</td>\n",
       "      <td>Provided by Advertiser</td>\n",
       "      <td>0</td>\n",
       "      <td>Marital Status (Single)</td>\n",
       "      <td>NaN</td>\n",
       "      <td>NaN</td>\n",
       "      <td>web_view_url:https://www.voterparticipation.or...</td>\n",
       "      <td>1.0</td>\n",
       "      <td>NA</td>\n",
       "      <td>56.0</td>\n",
       "    </tr>\n",
       "    <tr>\n",
       "      <td>3</td>\n",
       "      <td>45d7697e2522ccdd56b699e832792b9b659f7159e180a2...</td>\n",
       "      <td>https://www.snap.com/political-ads/asset/4b9c0...</td>\n",
       "      <td>USD</td>\n",
       "      <td>2048</td>\n",
       "      <td>612521</td>\n",
       "      <td>2018/09/28 19:00:00Z</td>\n",
       "      <td>2018/10/27 03:59:00Z</td>\n",
       "      <td>Güd Marketing</td>\n",
       "      <td>1223 Turner Ave., Suite 101,Lansing,48906,US</td>\n",
       "      <td>0</td>\n",
       "      <td>...</td>\n",
       "      <td>NaN</td>\n",
       "      <td>Provided by Advertiser</td>\n",
       "      <td>1</td>\n",
       "      <td>NaN</td>\n",
       "      <td>NaN</td>\n",
       "      <td>NaN</td>\n",
       "      <td>web_view_url:https://blockasiancarp.org/take-a...</td>\n",
       "      <td>1.0</td>\n",
       "      <td>NA</td>\n",
       "      <td>2048.0</td>\n",
       "    </tr>\n",
       "    <tr>\n",
       "      <td>4</td>\n",
       "      <td>46d8326f706f56296fa29f51b5127c67190807ccc08534...</td>\n",
       "      <td>https://www.snap.com/political-ads/asset/f512d...</td>\n",
       "      <td>USD</td>\n",
       "      <td>196</td>\n",
       "      <td>23810</td>\n",
       "      <td>2018/10/26 17:58:01Z</td>\n",
       "      <td>2018/11/06 22:59:59Z</td>\n",
       "      <td>Mothership Strategies</td>\n",
       "      <td>1328 Florida Avenue NW, Building C, Washington...</td>\n",
       "      <td>0</td>\n",
       "      <td>...</td>\n",
       "      <td>NaN</td>\n",
       "      <td>NaN</td>\n",
       "      <td>0</td>\n",
       "      <td>NaN</td>\n",
       "      <td>NaN</td>\n",
       "      <td>NaN</td>\n",
       "      <td>web_view_url:http://votingmatters.org/</td>\n",
       "      <td>1.0</td>\n",
       "      <td>NA</td>\n",
       "      <td>196.0</td>\n",
       "    </tr>\n",
       "  </tbody>\n",
       "</table>\n",
       "<p>5 rows × 37 columns</p>\n",
       "</div>"
      ],
      "text/plain": [
       "                                                ADID  \\\n",
       "0  6f6f6abb25d183bc3f0a2df46d18c65a18f6e1cac73416...   \n",
       "1  5195d68c146526eda7c30c64b9bef15ae86d8250c9a226...   \n",
       "2  64d906646b616c034c91b69b9e7851944844eb456dd203...   \n",
       "3  45d7697e2522ccdd56b699e832792b9b659f7159e180a2...   \n",
       "4  46d8326f706f56296fa29f51b5127c67190807ccc08534...   \n",
       "\n",
       "                                         CreativeUrl Currency Code  Spend  \\\n",
       "0  https://www.snap.com/political-ads/asset/a213d...           USD     35   \n",
       "1  https://www.snap.com/political-ads/asset/5c0b7...           USD      6   \n",
       "2  https://www.snap.com/political-ads/asset/e56c0...           USD     56   \n",
       "3  https://www.snap.com/political-ads/asset/4b9c0...           USD   2048   \n",
       "4  https://www.snap.com/political-ads/asset/f512d...           USD    196   \n",
       "\n",
       "   Impressions             StartDate               EndDate  \\\n",
       "0        16678  2018/11/06 18:21:20Z  2018/11/07 01:19:08Z   \n",
       "1         4846  2018/12/01 17:37:10Z  2018/12/11 05:37:02Z   \n",
       "2        11770  2018/09/28 23:10:14Z  2018/10/17 02:00:00Z   \n",
       "3       612521  2018/09/28 19:00:00Z  2018/10/27 03:59:00Z   \n",
       "4        23810  2018/10/26 17:58:01Z  2018/11/06 22:59:59Z   \n",
       "\n",
       "                     OrganizationName  \\\n",
       "0  Research Triangle Student Advocacy   \n",
       "1                                 LPM   \n",
       "2                    Chong and Koster   \n",
       "3                       Güd Marketing   \n",
       "4               Mothership Strategies   \n",
       "\n",
       "                                      BillingAddress  \\\n",
       "0                                                 US   \n",
       "1                                                 GB   \n",
       "2  1640 Rhode Island Ave. NW, Suite 600,Washingto...   \n",
       "3       1223 Turner Ave., Suite 101,Lansing,48906,US   \n",
       "4  1328 Florida Avenue NW, Building C, Washington...   \n",
       "\n",
       "   CandidateBallotInformation  ... OsType                Segments Language  \\\n",
       "0                           0  ...    NaN  Provided by Advertiser        0   \n",
       "1                           0  ...    NaN  Provided by Advertiser        0   \n",
       "2                           0  ...    NaN  Provided by Advertiser        0   \n",
       "3                           0  ...    NaN  Provided by Advertiser        1   \n",
       "4                           0  ...    NaN                     NaN        0   \n",
       "\n",
       "      AdvancedDemographics Targeting Connection Type Targeting Carrier (ISP)  \\\n",
       "0                      NaN                       NaN                     NaN   \n",
       "1                      NaN                       NaN                     NaN   \n",
       "2  Marital Status (Single)                       NaN                     NaN   \n",
       "3                      NaN                       NaN                     NaN   \n",
       "4                      NaN                       NaN                     NaN   \n",
       "\n",
       "                                  CreativeProperties  Rate Region New_Spend  \n",
       "0                                                NaN   1.0     NA      35.0  \n",
       "1               web_view_url:http://jidesanwoolu.ng/   1.0     AF       6.0  \n",
       "2  web_view_url:https://www.voterparticipation.or...   1.0     NA      56.0  \n",
       "3  web_view_url:https://blockasiancarp.org/take-a...   1.0     NA    2048.0  \n",
       "4             web_view_url:http://votingmatters.org/   1.0     NA     196.0  \n",
       "\n",
       "[5 rows x 37 columns]"
      ]
     },
     "execution_count": 61,
     "metadata": {},
     "output_type": "execute_result"
    }
   ],
   "source": [
    "ads.head()"
   ]
  },
  {
   "cell_type": "markdown",
   "metadata": {},
   "source": [
    "### Baseline Model"
   ]
  },
  {
   "cell_type": "code",
   "execution_count": 63,
   "metadata": {},
   "outputs": [
    {
     "data": {
      "text/plain": [
       "array([ 611.25, -879.75,  611.25, ..., 2874.75,  450.25, 2874.75])"
      ]
     },
     "execution_count": 63,
     "metadata": {},
     "output_type": "execute_result"
    }
   ],
   "source": [
    "# get features we want \n",
    "ad = ads[['Region','CandidateBallotInformation','Impressions','Interests','Language','Gender','New_Spend']] \n",
    "\n",
    "# onehotencoding nominal columns \n",
    "gd_col = ['Gender', 'Region', 'CandidateBallotInformation'] \n",
    "gd_transformer = Pipeline([('onehot', OneHotEncoder())]) \n",
    "\n",
    "scl_col = ['Language'] \n",
    "scl_transformer = Pipeline(steps=[('trans', StandardScaler())]) \n",
    "preproc = ColumnTransformer([('gd', gd_transformer, gd_col),\n",
    "                  ('std', scl_transformer, scl_col)]) \n",
    "\n",
    "#create the pipeline \n",
    "pl = Pipeline([('preprocessor', preproc), \n",
    "               ('regressor', LinearRegression())]) \n",
    "\n",
    "# fit the data and calculate the prediction \n",
    "pl.fit(ad.drop('New_Spend', axis=1), ad.New_Spend) \n",
    "preds = pl.predict(ad.drop('New_Spend', axis=1)) \n",
    "preds"
   ]
  },
  {
   "cell_type": "code",
   "execution_count": 65,
   "metadata": {},
   "outputs": [
    {
     "data": {
      "text/plain": [
       "0.002844861325309478"
      ]
     },
     "execution_count": 65,
     "metadata": {},
     "output_type": "execute_result"
    }
   ],
   "source": [
    "# train_test_split our data and calculate r2 score \n",
    "X = ad.drop('New_Spend', axis=1) \n",
    "y = ad.New_Spend \n",
    "X_train, X_test, y_train, y_test = train_test_split(X, y, test_size=0.3) \n",
    "pl.fit(X_train, y_train) \n",
    "y_pred = pl.predict(X_test) \n",
    "r2_score(y_test, y_pred)"
   ]
  },
  {
   "cell_type": "markdown",
   "metadata": {},
   "source": [
    "Since the outcome of R-square is relatively small, we think it is not good for our prediction. We can say that there is little relationship (or the relation is not so obvious) between the spending on Ad and the features we choose, which are “Region”, “Genders”, “CandidateBallotInformation” and \"Language\"."
   ]
  },
  {
   "cell_type": "markdown",
   "metadata": {},
   "source": [
    "### Final Model"
   ]
  },
  {
   "cell_type": "code",
   "execution_count": 69,
   "metadata": {},
   "outputs": [
    {
     "data": {
      "text/plain": [
       "0.9455670977549646"
      ]
     },
     "execution_count": 69,
     "metadata": {},
     "output_type": "execute_result"
    }
   ],
   "source": [
    "# get features we want \n",
    "ad = ads[['Region','CandidateBallotInformation','Impressions','Interests','Language','Gender','New_Spend']] \n",
    "\n",
    "# scale the numerical data \n",
    "scl_col = ['Impressions','Interests'] \n",
    "scl_transformer = Pipeline(steps=[('trans', RobustScaler())]) \n",
    "\n",
    "# onehotencoding nominal columns \n",
    "gd_col = ['Gender','Region','CandidateBallotInformation'] \n",
    "gd_transformer = Pipeline(steps=[      \n",
    "    ('onehot', OneHotEncoder())      \n",
    "]) \n",
    "\n",
    "preproc = ColumnTransformer(    \n",
    "    transformers=[('gd', gd_transformer, gd_col),('scl', scl_transformer, scl_col)\n",
    "                 ], remainder='passthrough') \n",
    "\n",
    "pl = Pipeline(steps=[('preprocessor', preproc), \n",
    "                     ('regressor',LinearRegression())]) \n",
    "\n",
    "pl.fit(X_train, y_train) \n",
    "y_preds = pl.predict(X_test) \n",
    "r_score = r2_score(y_test, y_preds) \n",
    "r_score "
   ]
  },
  {
   "cell_type": "code",
   "execution_count": 73,
   "metadata": {},
   "outputs": [
    {
     "data": {
      "text/html": [
       "<div>\n",
       "<style scoped>\n",
       "    .dataframe tbody tr th:only-of-type {\n",
       "        vertical-align: middle;\n",
       "    }\n",
       "\n",
       "    .dataframe tbody tr th {\n",
       "        vertical-align: top;\n",
       "    }\n",
       "\n",
       "    .dataframe thead th {\n",
       "        text-align: right;\n",
       "    }\n",
       "</style>\n",
       "<table border=\"1\" class=\"dataframe\">\n",
       "  <thead>\n",
       "    <tr style=\"text-align: right;\">\n",
       "      <th></th>\n",
       "      <th>r2</th>\n",
       "    </tr>\n",
       "  </thead>\n",
       "  <tbody>\n",
       "    <tr>\n",
       "      <td>1</td>\n",
       "      <td>0.450567</td>\n",
       "    </tr>\n",
       "    <tr>\n",
       "      <td>2</td>\n",
       "      <td>0.391477</td>\n",
       "    </tr>\n",
       "    <tr>\n",
       "      <td>3</td>\n",
       "      <td>0.338950</td>\n",
       "    </tr>\n",
       "    <tr>\n",
       "      <td>4</td>\n",
       "      <td>0.545494</td>\n",
       "    </tr>\n",
       "    <tr>\n",
       "      <td>5</td>\n",
       "      <td>0.644925</td>\n",
       "    </tr>\n",
       "  </tbody>\n",
       "</table>\n",
       "</div>"
      ],
      "text/plain": [
       "         r2\n",
       "1  0.450567\n",
       "2  0.391477\n",
       "3  0.338950\n",
       "4  0.545494\n",
       "5  0.644925"
      ]
     },
     "execution_count": 73,
     "metadata": {},
     "output_type": "execute_result"
    }
   ],
   "source": [
    "# get features we want \n",
    "ad = ads[['Region','CandidateBallotInformation','Impressions','Interests','Language','Gender','New_Spend']] \n",
    "\n",
    "# scale the numerical data \n",
    "scl_col = ['Impressions','Interests'] \n",
    "scl_transformer = Pipeline(steps=[('trans', RobustScaler())]) \n",
    "\n",
    "# onehotencoding nominal columns \n",
    "gd_col = ['Gender','Region','CandidateBallotInformation'] \n",
    "gd_transformer = Pipeline(steps=[      \n",
    "    ('onehot', OneHotEncoder())      \n",
    "]) \n",
    "\n",
    "preproc = ColumnTransformer(    \n",
    "    transformers=[('gd', gd_transformer, gd_col),('scl', scl_transformer, scl_col)                 \n",
    "                 ], remainder='passthrough') \n",
    "\n",
    "#create the pipeline \n",
    "lst = [] \n",
    "\n",
    "for i in range(1,21):    \n",
    "    pl = Pipeline(steps=[('preprocessor', preproc), ('regressor',KNeighborsRegressor(n_neighbors=i))])    \n",
    "    pl.fit(X_train, y_train)    \n",
    "    y_preds = pl.predict(X_test)    \n",
    "    r_score = r2_score(y_test, y_preds)    \n",
    "    lst.append(r_score)     \n",
    "\n",
    "# create a dataframe of r^score \n",
    "df = pd.DataFrame(index=range(1,21)) \n",
    "df = df.assign(r2=lst) \n",
    "df.head()"
   ]
  },
  {
   "cell_type": "code",
   "execution_count": 74,
   "metadata": {},
   "outputs": [
    {
     "data": {
      "text/plain": [
       "6"
      ]
     },
     "execution_count": 74,
     "metadata": {},
     "output_type": "execute_result"
    }
   ],
   "source": [
    "# get the best parameter \n",
    "df.r2.idxmax()"
   ]
  },
  {
   "cell_type": "code",
   "execution_count": 75,
   "metadata": {},
   "outputs": [
    {
     "data": {
      "text/plain": [
       "r2    0.502345\n",
       "dtype: float64"
      ]
     },
     "execution_count": 75,
     "metadata": {},
     "output_type": "execute_result"
    }
   ],
   "source": [
    "# get the average of r^2 \n",
    "df.mean()"
   ]
  },
  {
   "cell_type": "markdown",
   "metadata": {},
   "source": [
    "So, we can conclude that “Impressions” and “Interests” (especially “Impressions”) such numerical features perform the best in our model, which we can say that there is a stronger relationship between the views of the Ads by users and the spending on Ads, and the best parameter is 4 in this case. More speciﬁcally, spending more on Ads may result in more views in Ads."
   ]
  },
  {
   "cell_type": "markdown",
   "metadata": {},
   "source": [
    "### Fairness Evaluation\n",
    "Null hypothesis: ﬁnal model performs fairly on two attributes, large and small, which means that this model is “fair”. \n",
    "\n",
    "large is for part of data which new_spend is greater than the mean of the new_spend. \n",
    "\n",
    "Small refers to where new_spend is smaller than the mean of the new_spend.\n"
   ]
  },
  {
   "cell_type": "code",
   "execution_count": 76,
   "metadata": {},
   "outputs": [
    {
     "data": {
      "text/plain": [
       "array([5.33333333e+01, 5.00000000e+01, 5.80000000e+01, ...,\n",
       "       2.22561900e+04, 1.21950000e+02, 9.00000000e+00])"
      ]
     },
     "execution_count": 76,
     "metadata": {},
     "output_type": "execute_result"
    }
   ],
   "source": [
    "pl = Pipeline(steps=[('preprocessor', preproc), ('regressor',KNeighborsRegressor (n_neighbors=3))]) \n",
    "pl.fit(ad.drop('New_Spend', axis=1), ad.New_Spend) \n",
    "preds = pl.predict(ad.drop('New_Spend', axis=1)) \n",
    "preds"
   ]
  },
  {
   "cell_type": "code",
   "execution_count": 97,
   "metadata": {},
   "outputs": [
    {
     "data": {
      "text/html": [
       "<div>\n",
       "<style scoped>\n",
       "    .dataframe tbody tr th:only-of-type {\n",
       "        vertical-align: middle;\n",
       "    }\n",
       "\n",
       "    .dataframe tbody tr th {\n",
       "        vertical-align: top;\n",
       "    }\n",
       "\n",
       "    .dataframe thead th {\n",
       "        text-align: right;\n",
       "    }\n",
       "</style>\n",
       "<table border=\"1\" class=\"dataframe\">\n",
       "  <thead>\n",
       "    <tr style=\"text-align: right;\">\n",
       "      <th></th>\n",
       "      <th>New_Spend</th>\n",
       "      <th>prediction</th>\n",
       "      <th>is_large</th>\n",
       "    </tr>\n",
       "  </thead>\n",
       "  <tbody>\n",
       "    <tr>\n",
       "      <td>0</td>\n",
       "      <td>35.0</td>\n",
       "      <td>53.333333</td>\n",
       "      <td>Small</td>\n",
       "    </tr>\n",
       "    <tr>\n",
       "      <td>1</td>\n",
       "      <td>6.0</td>\n",
       "      <td>50.000000</td>\n",
       "      <td>Small</td>\n",
       "    </tr>\n",
       "    <tr>\n",
       "      <td>2</td>\n",
       "      <td>56.0</td>\n",
       "      <td>58.000000</td>\n",
       "      <td>Small</td>\n",
       "    </tr>\n",
       "    <tr>\n",
       "      <td>3</td>\n",
       "      <td>2048.0</td>\n",
       "      <td>3104.333333</td>\n",
       "      <td>Large</td>\n",
       "    </tr>\n",
       "    <tr>\n",
       "      <td>4</td>\n",
       "      <td>196.0</td>\n",
       "      <td>132.333333</td>\n",
       "      <td>Large</td>\n",
       "    </tr>\n",
       "  </tbody>\n",
       "</table>\n",
       "</div>"
      ],
      "text/plain": [
       "   New_Spend   prediction is_large\n",
       "0       35.0    53.333333    Small\n",
       "1        6.0    50.000000    Small\n",
       "2       56.0    58.000000    Small\n",
       "3     2048.0  3104.333333    Large\n",
       "4      196.0   132.333333    Large"
      ]
     },
     "execution_count": 97,
     "metadata": {},
     "output_type": "execute_result"
    }
   ],
   "source": [
    "# get attributes large and small from subset new_spend \n",
    "results = ad.copy()[['New_Spend']]\n",
    "\n",
    "# put in prediction from the final model \n",
    "results['prediction'] = preds \n",
    "\n",
    "# attributes are classified by median of new_spend column \n",
    "median = np.median(results.New_Spend) \n",
    "\n",
    "# is_large column contain the label for shuffling in permutation test \n",
    "results['is_large'] = (results.New_Spend <= median).replace({True:'Small', False: 'Large'}) \n",
    "results.head()"
   ]
  },
  {
   "cell_type": "code",
   "execution_count": 98,
   "metadata": {},
   "outputs": [
    {
     "data": {
      "text/html": [
       "<div>\n",
       "<style scoped>\n",
       "    .dataframe tbody tr th:only-of-type {\n",
       "        vertical-align: middle;\n",
       "    }\n",
       "\n",
       "    .dataframe tbody tr th {\n",
       "        vertical-align: top;\n",
       "    }\n",
       "\n",
       "    .dataframe thead th {\n",
       "        text-align: right;\n",
       "    }\n",
       "</style>\n",
       "<table border=\"1\" class=\"dataframe\">\n",
       "  <thead>\n",
       "    <tr style=\"text-align: right;\">\n",
       "      <th></th>\n",
       "      <th>r2_score</th>\n",
       "    </tr>\n",
       "    <tr>\n",
       "      <th>is_large</th>\n",
       "      <th></th>\n",
       "    </tr>\n",
       "  </thead>\n",
       "  <tbody>\n",
       "    <tr>\n",
       "      <td>Large</td>\n",
       "      <td>0.781948</td>\n",
       "    </tr>\n",
       "    <tr>\n",
       "      <td>Small</td>\n",
       "      <td>-0.876545</td>\n",
       "    </tr>\n",
       "  </tbody>\n",
       "</table>\n",
       "</div>"
      ],
      "text/plain": [
       "          r2_score\n",
       "is_large          \n",
       "Large     0.781948\n",
       "Small    -0.876545"
      ]
     },
     "execution_count": 98,
     "metadata": {},
     "output_type": "execute_result"
    }
   ],
   "source": [
    "# R^2 Parity \n",
    "# get the groupby df which contains the median of r2 scores for two attributes \n",
    "(    \n",
    "    results    \n",
    "    .groupby('is_large')    \n",
    "    .apply(lambda x: metrics.r2_score(x.New_Spend, x.prediction))    \n",
    "    .rename('r2_score')    \n",
    "    .to_frame() \n",
    ")"
   ]
  },
  {
   "cell_type": "code",
   "execution_count": 99,
   "metadata": {},
   "outputs": [
    {
     "name": "stdout",
     "output_type": "stream",
     "text": [
      "0.0\n"
     ]
    },
    {
     "data": {
      "image/png": "[encoded data removed]",
      "text/plain": [
       "<Figure size 432x288 with 1 Axes>"
      ]
     },
     "metadata": {
      "image/png": {
       "height": 263,
       "width": 382
      },
      "needs_background": "light"
     },
     "output_type": "display_data"
    }
   ],
   "source": [
    "# The observed statistic will be the difference between the r2 score of the mode ling on these two attributes. \n",
    "obs = results.groupby('is_large').apply(lambda x: metrics.r2_score(x.New_Spend, x.prediction)).diff().iloc[-1] \n",
    "metrs = [] \n",
    "\n",
    "# test statistics would be the difference between the r2 score of the modeling on these two attributes. \n",
    "\n",
    "for _ in range(100):    \n",
    "    s = (        \n",
    "        results[['is_large', 'prediction', 'New_Spend']]        \n",
    "        .assign(is_large=results.is_large.sample(frac=1.0, replace=False).reset_index(drop=True))        \n",
    "        .groupby('is_large')        \n",
    "        .apply(lambda x: metrics.r2_score(x.New_Spend, x.prediction))          \n",
    "        .diff()        \n",
    "        .iloc[-1]    \n",
    "    )        \n",
    "    \n",
    "    metrs.append(s) \n",
    "    \n",
    "# get the p value for permutation test \n",
    "print(pd.Series(metrs <= obs).mean()) \n",
    "pd.Series(metrs).plot(kind='hist', title='Permutation Test across large/small groups') \n",
    "plt.scatter(obs, 0, c='r');"
   ]
  },
  {
   "cell_type": "markdown",
   "metadata": {},
   "source": [
    "Then we got the p value 0.0 and chose the signiﬁcance level 0.01. In this case, we should reject the null hypothesis."
   ]
  },
  {
   "cell_type": "markdown",
   "metadata": {},
   "source": [
    "Things to improve\n",
    "\n",
    "1. To find if there are outliers or any real life issue related to the data exploring\n",
    "2. To find a better regression model for the features chose"
   ]
  }
 ],
 "metadata": {
  "kernelspec": {
   "display_name": "Python 3",
   "language": "python",
   "name": "python3"
  },
  "language_info": {
   "codemirror_mode": {
    "name": "ipython",
    "version": 3
   },
   "file_extension": ".py",
   "mimetype": "text/x-python",
   "name": "python",
   "nbconvert_exporter": "python",
   "pygments_lexer": "ipython3",
   "version": "3.7.4"
  }
 },
 "nbformat": 4,
 "nbformat_minor": 2
}
